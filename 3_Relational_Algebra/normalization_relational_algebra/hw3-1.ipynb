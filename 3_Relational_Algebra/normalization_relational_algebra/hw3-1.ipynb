{
 "cells": [
  {
   "cell_type": "code",
   "execution_count": 2,
   "metadata": {},
   "outputs": [],
   "source": [
    "%load_ext sql\n",
    "%config SqlMagic.style = '_DEPRECATED_DEFAULT'\n",
    "%sql sqlite:///PS2.db"
   ]
  },
  {
   "cell_type": "markdown",
   "metadata": {},
   "source": [
    "Homework #3\n",
    "=======\n",
    "\n",
    "### Deliverables:\n",
    "\n",
    "Submit your answers using the `submission_template.txt` file that is posted on Canvas. Follow the instructions on the file! Upload the file at Canvas.\n",
    "\n",
    "\n",
    "### Instructions / Notes:\n",
    "\n",
    "**_Read these carefully_**\n",
    "\n",
    "* You **may** create new IPython notebook cells to use for e.g. testing, debugging, exploring, etc.- this is encouraged in fact!- **just make sure that your final answer for each question is _in its own cell_ and _clearly indicated_**\n",
    "* When you see `In [*]:` to the left of the cell you are executing, this means that the code / query is _running_.\n",
    "    * **If the cell is hanging- i.e. running for too long: To restart the SQL connection, you must restart the entire python kernel**\n",
    "    * To restart kernel using the menu bar: \"Kernel >> Restart >> Clear all outputs & restart\"), then re-execute the sql connection cell at top\n",
    "    * You will also need to restart the connection if you want to load a different version of the database file\n",
    "* Remember:\n",
    "    * `%sql [SQL]` is for _single line_ SQL queries\n",
    "    * `%%sql [SQL]` is for _multi line_ SQL queries\n",
    "* _Have fun!_"
   ]
  },
  {
   "cell_type": "markdown",
   "metadata": {},
   "source": [
    "Problem 1: Verifying Functional Dependencies [20 points]\n",
    "---------\n",
    "\n",
    "For this part, you will need to provide a _single_ SQL query which will check whether a certain condition holds on the **hospital** table in the provided database:"
   ]
  },
  {
   "cell_type": "code",
   "execution_count": 3,
   "metadata": {},
   "outputs": [
    {
     "name": "stdout",
     "output_type": "stream",
     "text": [
      " * sqlite:///PS2.db\n",
      "Done.\n"
     ]
    },
    {
     "data": {
      "text/html": [
       "<table>\n",
       "    <thead>\n",
       "        <tr>\n",
       "            <th>provider</th>\n",
       "            <th>hospital</th>\n",
       "            <th>address</th>\n",
       "            <th>city</th>\n",
       "            <th>state</th>\n",
       "            <th>zip</th>\n",
       "            <th>county</th>\n",
       "            <th>phone_number</th>\n",
       "            <th>hospital_type</th>\n",
       "            <th>hospital_owner</th>\n",
       "            <th>emergency_service</th>\n",
       "            <th>condition</th>\n",
       "            <th>measure_code</th>\n",
       "        </tr>\n",
       "    </thead>\n",
       "    <tbody>\n",
       "        <tr>\n",
       "            <td>10018</td>\n",
       "            <td>CALLAHAN EYE FOUNDATION HOSPITAL</td>\n",
       "            <td>1720 UNIVERSITY BLVD</td>\n",
       "            <td>BIRMINGHAM</td>\n",
       "            <td>AL</td>\n",
       "            <td>35233</td>\n",
       "            <td>JEFFERSON</td>\n",
       "            <td>2053258100</td>\n",
       "            <td>Acute Care Hospitals</td>\n",
       "            <td>Voluntary non-profit - Private</td>\n",
       "            <td>Yes</td>\n",
       "            <td>Surgical Infection Prevention</td>\n",
       "            <td>SCIP-CARD-2</td>\n",
       "        </tr>\n",
       "        <tr>\n",
       "            <td>10018</td>\n",
       "            <td>CALLAHAN EYE FOUNDATION HOSPITAL</td>\n",
       "            <td>1720 UNIVERSITY BLVD</td>\n",
       "            <td>BIRMINGHAM</td>\n",
       "            <td>AL</td>\n",
       "            <td>35233</td>\n",
       "            <td>JEFFERSON</td>\n",
       "            <td>2053258100</td>\n",
       "            <td>Acute Care Hospitals</td>\n",
       "            <td>Voluntary non-profit - Private</td>\n",
       "            <td>Yes</td>\n",
       "            <td>Surgical Infection Prevention</td>\n",
       "            <td>SCIP-INF-1</td>\n",
       "        </tr>\n",
       "        <tr>\n",
       "            <td>10018</td>\n",
       "            <td>CALLAHAN EYE FOUNDATION HOSPITAL</td>\n",
       "            <td>1720 UNIVERSITY BLVD</td>\n",
       "            <td>BIRMINGHAM</td>\n",
       "            <td>AL</td>\n",
       "            <td>35233</td>\n",
       "            <td>JEFFERSON</td>\n",
       "            <td>2053258100</td>\n",
       "            <td>Acute Care Hospitals</td>\n",
       "            <td>Voluntary non-profit - Private</td>\n",
       "            <td>Yes</td>\n",
       "            <td>Surgical Infection Prevention</td>\n",
       "            <td>SCIP-INF-2</td>\n",
       "        </tr>\n",
       "        <tr>\n",
       "            <td>10018</td>\n",
       "            <td>CALLAHAN EYE FOUNDATION HOSPITAL</td>\n",
       "            <td>1720 UNIVERSITY BLVD</td>\n",
       "            <td>BIRMINGHAM</td>\n",
       "            <td>AL</td>\n",
       "            <td>35233</td>\n",
       "            <td>JEFFERSON</td>\n",
       "            <td>2053258100</td>\n",
       "            <td>Acute Care Hospitals</td>\n",
       "            <td>Voluntary non-profit - Private</td>\n",
       "            <td>Yes</td>\n",
       "            <td>Surgical Infection Prevention</td>\n",
       "            <td>SCIP-INF-3</td>\n",
       "        </tr>\n",
       "        <tr>\n",
       "            <td>10018</td>\n",
       "            <td>CALLAHAN EYE FOUNDATION HOSPITAL</td>\n",
       "            <td>1720 UNIVERSITY BLVD</td>\n",
       "            <td>BIRMINGHAM</td>\n",
       "            <td>AL</td>\n",
       "            <td>35233</td>\n",
       "            <td>JEFFERSON</td>\n",
       "            <td>2053258100</td>\n",
       "            <td>Acute Care Hospitals</td>\n",
       "            <td>Voluntary non-profit - Private</td>\n",
       "            <td>Yes</td>\n",
       "            <td>Surgical Infection Prevention</td>\n",
       "            <td>SCIP-INF-4</td>\n",
       "        </tr>\n",
       "    </tbody>\n",
       "</table>"
      ],
      "text/plain": [
       "[(10018, 'CALLAHAN EYE FOUNDATION HOSPITAL', '1720 UNIVERSITY BLVD', 'BIRMINGHAM', 'AL', 35233, 'JEFFERSON', 2053258100, 'Acute Care Hospitals', 'Voluntary non-profit - Private', 'Yes', 'Surgical Infection Prevention', 'SCIP-CARD-2'),\n",
       " (10018, 'CALLAHAN EYE FOUNDATION HOSPITAL', '1720 UNIVERSITY BLVD', 'BIRMINGHAM', 'AL', 35233, 'JEFFERSON', 2053258100, 'Acute Care Hospitals', 'Voluntary non-profit - Private', 'Yes', 'Surgical Infection Prevention', 'SCIP-INF-1'),\n",
       " (10018, 'CALLAHAN EYE FOUNDATION HOSPITAL', '1720 UNIVERSITY BLVD', 'BIRMINGHAM', 'AL', 35233, 'JEFFERSON', 2053258100, 'Acute Care Hospitals', 'Voluntary non-profit - Private', 'Yes', 'Surgical Infection Prevention', 'SCIP-INF-2'),\n",
       " (10018, 'CALLAHAN EYE FOUNDATION HOSPITAL', '1720 UNIVERSITY BLVD', 'BIRMINGHAM', 'AL', 35233, 'JEFFERSON', 2053258100, 'Acute Care Hospitals', 'Voluntary non-profit - Private', 'Yes', 'Surgical Infection Prevention', 'SCIP-INF-3'),\n",
       " (10018, 'CALLAHAN EYE FOUNDATION HOSPITAL', '1720 UNIVERSITY BLVD', 'BIRMINGHAM', 'AL', 35233, 'JEFFERSON', 2053258100, 'Acute Care Hospitals', 'Voluntary non-profit - Private', 'Yes', 'Surgical Infection Prevention', 'SCIP-INF-4')]"
      ]
     },
     "execution_count": 3,
     "metadata": {},
     "output_type": "execute_result"
    }
   ],
   "source": [
    "%sql select * from hospital LIMIT 5;"
   ]
  },
  {
   "cell_type": "markdown",
   "metadata": {},
   "source": [
    "You need to evaluate any requested conditions in the following way: **your query should return an empty result if and only if the condition holds on the instance.**  If the condition doesn't hold, your query should return something non-empty, but it doesn't matter what this is.\n",
    "\n",
    "Note our language here: the conditions that we specify cannot be proved to hold **in general** without knowing the externally-defined functional dependencies; so what we mean is, _check whether they **are not violated** for the provided instance_.\n",
    "\n",
    "You may assume that there are no `NULL` values in the tables."
   ]
  },
  {
   "cell_type": "markdown",
   "metadata": {},
   "source": [
    "### Part (a)  [10 points]\n",
    "\n",
    "Is $\\{provider\\}$ a **superkey** for relation $Hospital$?"
   ]
  },
  {
   "cell_type": "code",
   "execution_count": null,
   "metadata": {
    "collapsed": true
   },
   "outputs": [],
   "source": [
    "%%sql\n",
    "SELECT 0\n",
    "FROM Hospital h1\n",
    "JOIN Hospital h2 ON h1.provider = h2.provider\n",
    "WHERE \n",
    "    h1.hospital != h2.hospital OR\n",
    "    h1.address != h2.address OR\n",
    "    h1.city != h2.city OR\n",
    "    h1.state != h2.state OR\n",
    "    h1.zip != h2.zip OR\n",
    "    h1.county != h2.county OR\n",
    "    h1.phone_number != h2.phone_number OR\n",
    "    h1.hospital_type != h2.hospital_type OR\n",
    "    h1.hospital_owner != h2.hospital_owner OR\n",
    "    h1.emergency_service != h2.emergency_service OR\n",
    "    h1.condition != h2.condition OR\n",
    "    h1.measure_code != h2.measure_code\n"
   ]
  },
  {
   "cell_type": "markdown",
   "metadata": {},
   "source": [
    "### Part (b) [10 points]\n",
    "\n",
    "Does $\\{Zip\\} \\rightarrow \\{City, State\\}$ hold for relation $Hospital$?"
   ]
  },
  {
   "cell_type": "code",
   "execution_count": 5,
   "metadata": {
    "collapsed": true
   },
   "outputs": [
    {
     "name": "stdout",
     "output_type": "stream",
     "text": [
      " * sqlite:///PS2.db\n",
      "Done.\n"
     ]
    },
    {
     "data": {
      "text/html": [
       "<table>\n",
       "    <thead>\n",
       "        <tr>\n",
       "            <th>0</th>\n",
       "        </tr>\n",
       "    </thead>\n",
       "    <tbody>\n",
       "    </tbody>\n",
       "</table>"
      ],
      "text/plain": [
       "[]"
      ]
     },
     "execution_count": 5,
     "metadata": {},
     "output_type": "execute_result"
    }
   ],
   "source": [
    "%%sql\n",
    "SELECT 0\n",
    "FROM Hospital\n",
    "GROUP BY zip\n",
    "HAVING COUNT(DISTINCT city) > 1 OR COUNT(DISTINCT state) > 1"
   ]
  },
  {
   "cell_type": "markdown",
   "metadata": {},
   "source": [
    "Problem 2: Superkeys & Decompositions [15 points]\n",
    "---------\n",
    "\n",
    "Consider a relation $S(A,B,C,D,E,F)$ with the following functional dependencies:\n",
    "\n",
    "* $\\{A\\} \\rightarrow \\{D\\}$\n",
    "* $\\{A\\} \\rightarrow \\{E\\}$\n",
    "* $\\{D\\} \\rightarrow \\{C\\}$\n",
    "* $\\{D\\} \\rightarrow \\{F\\}$\n",
    "\n",
    "In each part of this problem, we will examine different properties the provided schema.\n",
    "\n",
    "To answer **yes**, provide python code that assigns the variable ```answer``` to ```True``` and assigns ```explanation``` to be a python string which contains a (short!) explanation of why.  For example:\n",
    "\n",
    "```python\n",
    "answer = True\n",
    "explanation = \"All keys are superkeys.\"\n",
    "```\n",
    "\n",
    "To answer **no**, provide python code that assigns the variable ```answer``` to ```False``` and assigns ```explanation``` to be a python string which contains a (short!) explanation of why.  For example:\n",
    "\n",
    "```python\n",
    "answer = False\n",
    "explanation = \"D is not a superkey because its closure is {D,C,F}.\"\n",
    "```"
   ]
  },
  {
   "cell_type": "markdown",
   "metadata": {
    "collapsed": true
   },
   "source": [
    "### Part (a) [5 points]\n",
    "\n",
    "Is it correct that $\\{A,B\\}$ is a superkey?"
   ]
  },
  {
   "cell_type": "code",
   "execution_count": 34,
   "metadata": {
    "collapsed": true
   },
   "outputs": [],
   "source": [
    "answer = True\n",
    "explanation = \"{A,B} includes all attribute, A determines D and E, and D determines C and F\""
   ]
  },
  {
   "cell_type": "markdown",
   "metadata": {},
   "source": [
    "### Part (b) [5 points]\n",
    "\n",
    "Is it correct that the decomposition $ABC$, $CDE$, $EFA$ is lossless-join?"
   ]
  },
  {
   "cell_type": "code",
   "execution_count": null,
   "metadata": {
    "collapsed": true
   },
   "outputs": [],
   "source": [
    "answer = False\n",
    "explanantion = \"\"\"after aplly chase algo, every row has at least one subscripts\n",
    "                    a,  b,  c, d1, e, f\n",
    "                    a2, b2, c, d,  e, f2\n",
    "                    a,  b3, c, d1, e, f\n",
    "                \"\"\""
   ]
  },
  {
   "cell_type": "markdown",
   "metadata": {},
   "source": [
    "### Part (c) [5 points]\n",
    "\n",
    "Is it correct that relation $S$ is in BCNF? "
   ]
  },
  {
   "cell_type": "code",
   "execution_count": 36,
   "metadata": {
    "collapsed": true
   },
   "outputs": [],
   "source": [
    "answer = False\n",
    "explanation = \"it violates BCNF: A is not a superkey, because its closure excludes B. D is not a superkey it is missing A, B, E.\""
   ]
  },
  {
   "cell_type": "markdown",
   "metadata": {},
   "source": [
    "Problem 3: Relational Algebra [15 points]\n",
    "---------\n",
    "\n",
    "Consider the following relational schema for conference publications:\n",
    "*  `Article(artid, title, confid, numpages)`\n",
    "*  `Conference(confid, name, year, location)`\n",
    "*  `Author(artid, pid)`\n",
    "*  `Person(pid, name, affiliation)`\n",
    "\n",
    "Express the following queries in the extended Relational Algebra (you can also use the aggregation operator if necessary). To write the RA expression, use the LaTex mode that ipython notebook provides. For example:\n",
    "\n",
    "$$\\pi_{name}(\\sigma_{affiliation=\"UW-Madison\"}(Person))$$ "
   ]
  },
  {
   "cell_type": "markdown",
   "metadata": {},
   "source": [
    "### Part (a) [8 points]\n",
    "\n",
    "Output the name of every person affiliated with `UW-Madison` who has published an article in a 2021 conference."
   ]
  },
  {
   "cell_type": "markdown",
   "metadata": {},
   "source": []
  },
  {
   "cell_type": "markdown",
   "metadata": {},
   "source": [
    "$$\n",
    "\\pi_{\\text{name}} \\left( \\sigma_{\\text{affiliation}=\"UW-Madison\"}(\\text{Person}) \\bowtie_{\\text{pid}} \\left( (\\sigma_{\\text{year}=2021}(\\text{Conference})) \\bowtie_{\\text{confid}} \\text{Article} \\right) \\bowtie_{\\text{artid}} \\text{Author} \\right)\n",
    "$$\n"
   ]
  },
  {
   "cell_type": "markdown",
   "metadata": {},
   "source": [
    "### Part (b) [7 points]\n",
    "\n",
    "Translate the following SQL query to Relational Algebra."
   ]
  },
  {
   "cell_type": "code",
   "execution_count": 37,
   "metadata": {},
   "outputs": [
    {
     "name": "stdout",
     "output_type": "stream",
     "text": [
      " * sqlite:///PS2.db\n",
      "(sqlite3.OperationalError) no such table: Article\n",
      "[SQL: SELECT pid, COUNT(A.artid)\n",
      "FROM Article A, Conference C, Author U\n",
      "WHERE A.confid = C.confid AND C.name = \"PODS\" AND U.artid = A.artid\n",
      "GROUP BY pid ;]\n",
      "(Background on this error at: https://sqlalche.me/e/20/e3q8)\n"
     ]
    }
   ],
   "source": [
    "%%sql\n",
    "SELECT pid, COUNT(A.artid)\n",
    "FROM Article A, Conference C, Author U\n",
    "WHERE A.confid = C.confid AND C.name = \"PODS\" AND U.artid = A.artid\n",
    "GROUP BY pid ;"
   ]
  },
  {
   "cell_type": "markdown",
   "metadata": {},
   "source": []
  },
  {
   "cell_type": "markdown",
   "metadata": {},
   "source": [
    "$$\n",
    "\\gamma_{\\text{pid}, \\text{COUNT}(\\text{artid}) \\rightarrow \\text{art\\_count}} \\left( \\left( \\text{Article} \\bowtie_{\\text{confid}} \\sigma_{\\text{name} = \\text{\"PODS\"}}(\\text{Conference}) \\right) \\bowtie_{\\text{artid}} \\text{Author} \\right)\n",
    "$$\n"
   ]
  }
 ],
 "metadata": {
  "kernelspec": {
   "display_name": "Python 3",
   "language": "python",
   "name": "python3"
  },
  "language_info": {
   "codemirror_mode": {
    "name": "ipython",
    "version": 3
   },
   "file_extension": ".py",
   "mimetype": "text/x-python",
   "name": "python",
   "nbconvert_exporter": "python",
   "pygments_lexer": "ipython3",
   "version": "3.12.4"
  }
 },
 "nbformat": 4,
 "nbformat_minor": 1
}
