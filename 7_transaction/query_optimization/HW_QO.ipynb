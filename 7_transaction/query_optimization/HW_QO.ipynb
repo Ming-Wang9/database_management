{
 "cells": [
  {
   "cell_type": "markdown",
   "metadata": {},
   "source": [
    "# Query Optimization Homework\n",
    "\n",
    "In this homework, we will work and play around with the Sqlite query optimizer. We will see how different join orders and indexing strategies can have a big impact on the performance.\n",
    "\n",
    "To time how long queries take to run, we will use the built in timer feature in sqlite. This requires you to run queries in the **command line, instead of in the notebook**. You will then take the timer output and paste it back into the notebook to submit. The example below shows how to time queries in sqlite (we will use the time *real*, which is wall clock time).\n",
    "\n",
    "```shell\n",
    "[simonfrisk@vm-instunix-02] (5)$ sqlite3 3path.db\n",
    "sqlite> .timer on\n",
    "sqlite> SELECT COUNT(*) FROM A;\n",
    "3000\n",
    "Run Time: real 0.05 user 0.02 sys 0.01\n",
    "```\n",
    "\n",
    "To test that the setup is correct, you should be able to run the following."
   ]
  },
  {
   "cell_type": "code",
   "execution_count": 1,
   "metadata": {},
   "outputs": [],
   "source": [
    "%load_ext sql\n",
    "%config SqlMagic.style = '_DEPRECATED_DEFAULT'    \n",
    "%sql sqlite:///TPC-H.db"
   ]
  },
  {
   "cell_type": "markdown",
   "metadata": {},
   "source": [
    "Sqlite allows us to take a query and have the system explain which query plan it uses. Run the following query to see which plan the system uses"
   ]
  },
  {
   "cell_type": "code",
   "execution_count": 2,
   "metadata": {},
   "outputs": [
    {
     "name": "stdout",
     "output_type": "stream",
     "text": [
      " * sqlite:///TPC-H.db\n",
      "Done.\n"
     ]
    },
    {
     "data": {
      "text/html": [
       "<table>\n",
       "    <thead>\n",
       "        <tr>\n",
       "            <th>id</th>\n",
       "            <th>parent</th>\n",
       "            <th>notused</th>\n",
       "            <th>detail</th>\n",
       "        </tr>\n",
       "    </thead>\n",
       "    <tbody>\n",
       "        <tr>\n",
       "            <td>4</td>\n",
       "            <td>0</td>\n",
       "            <td>0</td>\n",
       "            <td>SCAN o</td>\n",
       "        </tr>\n",
       "        <tr>\n",
       "            <td>6</td>\n",
       "            <td>0</td>\n",
       "            <td>0</td>\n",
       "            <td>SEARCH c USING INTEGER PRIMARY KEY (rowid=?)</td>\n",
       "        </tr>\n",
       "    </tbody>\n",
       "</table>"
      ],
      "text/plain": [
       "[(4, 0, 0, 'SCAN o'),\n",
       " (6, 0, 0, 'SEARCH c USING INTEGER PRIMARY KEY (rowid=?)')]"
      ]
     },
     "execution_count": 2,
     "metadata": {},
     "output_type": "execute_result"
    }
   ],
   "source": [
    "%%sql\n",
    "EXPLAIN QUERY PLAN \n",
    "SELECT COUNT(*) \n",
    "FROM customer c\n",
    "JOIN orders o ON c.C_CUSTKEY == o.O_CUSTKEY;"
   ]
  },
  {
   "cell_type": "markdown",
   "metadata": {},
   "source": [
    "Here, we can see that the query plan for the binary join works by first scanning the orders table, and then probing into the customer table for matches (all joins in Sqlite are nested-loops joins, possibly with indexes).\n",
    "\n",
    "Furthermore, we can force Sqlite to use a specific join order, by replacing JOIN with CROSS JOIN. In the query below, we instead use the plan that scans the customer table, and probes into the order table for matches."
   ]
  },
  {
   "cell_type": "code",
   "execution_count": 3,
   "metadata": {},
   "outputs": [
    {
     "name": "stdout",
     "output_type": "stream",
     "text": [
      " * sqlite:///TPC-H.db\n",
      "Done.\n"
     ]
    },
    {
     "data": {
      "text/html": [
       "<table>\n",
       "    <thead>\n",
       "        <tr>\n",
       "            <th>id</th>\n",
       "            <th>parent</th>\n",
       "            <th>notused</th>\n",
       "            <th>detail</th>\n",
       "        </tr>\n",
       "    </thead>\n",
       "    <tbody>\n",
       "        <tr>\n",
       "            <td>4</td>\n",
       "            <td>0</td>\n",
       "            <td>0</td>\n",
       "            <td>SCAN c</td>\n",
       "        </tr>\n",
       "        <tr>\n",
       "            <td>8</td>\n",
       "            <td>0</td>\n",
       "            <td>0</td>\n",
       "            <td>BLOOM FILTER ON o (O_CUSTKEY=?)</td>\n",
       "        </tr>\n",
       "        <tr>\n",
       "            <td>17</td>\n",
       "            <td>0</td>\n",
       "            <td>0</td>\n",
       "            <td>SEARCH o USING AUTOMATIC COVERING INDEX (O_CUSTKEY=?)</td>\n",
       "        </tr>\n",
       "    </tbody>\n",
       "</table>"
      ],
      "text/plain": [
       "[(4, 0, 0, 'SCAN c'),\n",
       " (8, 0, 0, 'BLOOM FILTER ON o (O_CUSTKEY=?)'),\n",
       " (17, 0, 0, 'SEARCH o USING AUTOMATIC COVERING INDEX (O_CUSTKEY=?)')]"
      ]
     },
     "execution_count": 3,
     "metadata": {},
     "output_type": "execute_result"
    }
   ],
   "source": [
    "%%sql\n",
    "EXPLAIN QUERY PLAN\n",
    "SELECT COUNT(*) \n",
    "FROM customer c\n",
    "CROSS JOIN orders o ON c.C_CUSTKEY == o.O_CUSTKEY;"
   ]
  },
  {
   "cell_type": "markdown",
   "metadata": {},
   "source": [
    "In this homework, we will use CROSS JOIN to manually pick the join order. This will allow us to see the performance difference of different join orders."
   ]
  },
  {
   "cell_type": "markdown",
   "metadata": {},
   "source": [
    "## 3-Path Query\n",
    "\n",
    "We will begin by studying the following query - the 3-path query. Start by loading the following database. Then run the query below."
   ]
  },
  {
   "cell_type": "code",
   "execution_count": 4,
   "metadata": {},
   "outputs": [
    {
     "name": "stdout",
     "output_type": "stream",
     "text": [
      "The sql extension is already loaded. To reload it, use:\n",
      "  %reload_ext sql\n"
     ]
    }
   ],
   "source": [
    "%load_ext sql\n",
    "%config SqlMagic.style = '_DEPRECATED_DEFAULT'    \n",
    "%sql sqlite:///3path.db"
   ]
  },
  {
   "cell_type": "code",
   "execution_count": 5,
   "metadata": {},
   "outputs": [
    {
     "name": "stdout",
     "output_type": "stream",
     "text": [
      " * sqlite:///3path.db\n",
      "   sqlite:///TPC-H.db\n",
      "Done.\n"
     ]
    },
    {
     "data": {
      "text/html": [
       "<table>\n",
       "    <thead>\n",
       "        <tr>\n",
       "            <th>COUNT(*)</th>\n",
       "        </tr>\n",
       "    </thead>\n",
       "    <tbody>\n",
       "        <tr>\n",
       "            <td>9000000</td>\n",
       "        </tr>\n",
       "    </tbody>\n",
       "</table>"
      ],
      "text/plain": [
       "[(9000000,)]"
      ]
     },
     "execution_count": 5,
     "metadata": {},
     "output_type": "execute_result"
    }
   ],
   "source": [
    "%%sql\n",
    "SELECT COUNT(*)\n",
    "FROM A\n",
    "JOIN B ON A.b=B.b\n",
    "JOIN C ON C.c=B.c;"
   ]
  },
  {
   "cell_type": "markdown",
   "metadata": {},
   "source": [
    "### Question 1 (15 Points)\n",
    "The above query can be computed using several different join orders. We will try the three join orders listed below.\n",
    "- A joins B joins C\n",
    "- A joins C joins B\n",
    "- C joins B joins A\n",
    "\n",
    "An important aspect in picking join orders is to minimize the size of the intermediate relation. If the intermediate size is large, the query might take longer time to compute. For the 3-path query above, each plan has a different intermediate relation.\n",
    "\n",
    "For each query, do the following\n",
    "- give the query in SQL using CROSS JOIN\n",
    "- time the amount of time the query takes with .timer in sqlite\n",
    "- give the query that computes the intermediate relation size"
   ]
  },
  {
   "cell_type": "markdown",
   "metadata": {},
   "source": [
    "**A joins B joins C**"
   ]
  },
  {
   "cell_type": "code",
   "execution_count": 6,
   "metadata": {},
   "outputs": [
    {
     "name": "stdout",
     "output_type": "stream",
     "text": [
      " * sqlite:///3path.db\n",
      "   sqlite:///TPC-H.db\n",
      "Done.\n"
     ]
    },
    {
     "data": {
      "text/html": [
       "<table>\n",
       "    <thead>\n",
       "        <tr>\n",
       "            <th>COUNT(*)</th>\n",
       "        </tr>\n",
       "    </thead>\n",
       "    <tbody>\n",
       "        <tr>\n",
       "            <td>9000000</td>\n",
       "        </tr>\n",
       "    </tbody>\n",
       "</table>"
      ],
      "text/plain": [
       "[(9000000,)]"
      ]
     },
     "execution_count": 6,
     "metadata": {},
     "output_type": "execute_result"
    }
   ],
   "source": [
    "%%sql\n",
    "SELECT COUNT(*)\n",
    "FROM A\n",
    "CROSS JOIN B ON A.b = B.b\n",
    "CROSS JOIN C ON C.c = B.c;"
   ]
  },
  {
   "cell_type": "code",
   "execution_count": 7,
   "metadata": {},
   "outputs": [],
   "source": [
    "time_ABC=1.165;"
   ]
  },
  {
   "cell_type": "code",
   "execution_count": 8,
   "metadata": {},
   "outputs": [
    {
     "name": "stdout",
     "output_type": "stream",
     "text": [
      " * sqlite:///3path.db\n",
      "   sqlite:///TPC-H.db\n",
      "Done.\n"
     ]
    },
    {
     "data": {
      "text/html": [
       "<table>\n",
       "    <thead>\n",
       "        <tr>\n",
       "            <th>COUNT(*)</th>\n",
       "        </tr>\n",
       "    </thead>\n",
       "    <tbody>\n",
       "        <tr>\n",
       "            <td>9000000</td>\n",
       "        </tr>\n",
       "    </tbody>\n",
       "</table>"
      ],
      "text/plain": [
       "[(9000000,)]"
      ]
     },
     "execution_count": 8,
     "metadata": {},
     "output_type": "execute_result"
    }
   ],
   "source": [
    "%%sql\n",
    "SELECT COUNT(*)\n",
    "FROM A \n",
    "CROSS JOIN B ON A.b = B.b;"
   ]
  },
  {
   "cell_type": "markdown",
   "metadata": {},
   "source": [
    "**A joins C joins B**"
   ]
  },
  {
   "cell_type": "code",
   "execution_count": 9,
   "metadata": {},
   "outputs": [
    {
     "name": "stdout",
     "output_type": "stream",
     "text": [
      " * sqlite:///3path.db\n",
      "   sqlite:///TPC-H.db\n",
      "Done.\n"
     ]
    },
    {
     "data": {
      "text/html": [
       "<table>\n",
       "    <thead>\n",
       "        <tr>\n",
       "            <th>COUNT(*)</th>\n",
       "        </tr>\n",
       "    </thead>\n",
       "    <tbody>\n",
       "        <tr>\n",
       "            <td>9000000</td>\n",
       "        </tr>\n",
       "    </tbody>\n",
       "</table>"
      ],
      "text/plain": [
       "[(9000000,)]"
      ]
     },
     "execution_count": 9,
     "metadata": {},
     "output_type": "execute_result"
    }
   ],
   "source": [
    "%%sql\n",
    "SELECT COUNT(*)\n",
    "FROM A\n",
    "CROSS JOIN C\n",
    "CROSS JOIN B \n",
    "WHERE A.b = B.b AND C.c = B.c;"
   ]
  },
  {
   "cell_type": "code",
   "execution_count": 10,
   "metadata": {},
   "outputs": [],
   "source": [
    "time_ACB=1.224;"
   ]
  },
  {
   "cell_type": "code",
   "execution_count": 11,
   "metadata": {},
   "outputs": [
    {
     "name": "stdout",
     "output_type": "stream",
     "text": [
      " * sqlite:///3path.db\n",
      "   sqlite:///TPC-H.db\n",
      "Done.\n"
     ]
    },
    {
     "data": {
      "text/html": [
       "<table>\n",
       "    <thead>\n",
       "        <tr>\n",
       "            <th>COUNT(*)</th>\n",
       "        </tr>\n",
       "    </thead>\n",
       "    <tbody>\n",
       "        <tr>\n",
       "            <td>9000000</td>\n",
       "        </tr>\n",
       "    </tbody>\n",
       "</table>"
      ],
      "text/plain": [
       "[(9000000,)]"
      ]
     },
     "execution_count": 11,
     "metadata": {},
     "output_type": "execute_result"
    }
   ],
   "source": [
    "%%sql\n",
    "SELECT COUNT(*)\n",
    "FROM A\n",
    "CROSS JOIN C;"
   ]
  },
  {
   "cell_type": "markdown",
   "metadata": {},
   "source": [
    "**C joins B joins A**"
   ]
  },
  {
   "cell_type": "code",
   "execution_count": 12,
   "metadata": {},
   "outputs": [
    {
     "name": "stdout",
     "output_type": "stream",
     "text": [
      " * sqlite:///3path.db\n",
      "   sqlite:///TPC-H.db\n",
      "Done.\n"
     ]
    },
    {
     "data": {
      "text/html": [
       "<table>\n",
       "    <thead>\n",
       "        <tr>\n",
       "            <th>COUNT(*)</th>\n",
       "        </tr>\n",
       "    </thead>\n",
       "    <tbody>\n",
       "        <tr>\n",
       "            <td>9000000</td>\n",
       "        </tr>\n",
       "    </tbody>\n",
       "</table>"
      ],
      "text/plain": [
       "[(9000000,)]"
      ]
     },
     "execution_count": 12,
     "metadata": {},
     "output_type": "execute_result"
    }
   ],
   "source": [
    "%%sql\n",
    "SELECT COUNT(*)\n",
    "FROM C\n",
    "CROSS JOIN B ON C.c = B.c\n",
    "CROSS JOIN A ON A.b = B.b;"
   ]
  },
  {
   "cell_type": "code",
   "execution_count": 13,
   "metadata": {},
   "outputs": [],
   "source": [
    "time_CBA=0.138"
   ]
  },
  {
   "cell_type": "code",
   "execution_count": 14,
   "metadata": {},
   "outputs": [
    {
     "name": "stdout",
     "output_type": "stream",
     "text": [
      " * sqlite:///3path.db\n",
      "   sqlite:///TPC-H.db\n",
      "Done.\n"
     ]
    },
    {
     "data": {
      "text/html": [
       "<table>\n",
       "    <thead>\n",
       "        <tr>\n",
       "            <th>COUNT(*)</th>\n",
       "        </tr>\n",
       "    </thead>\n",
       "    <tbody>\n",
       "        <tr>\n",
       "            <td>3000</td>\n",
       "        </tr>\n",
       "    </tbody>\n",
       "</table>"
      ],
      "text/plain": [
       "[(3000,)]"
      ]
     },
     "execution_count": 14,
     "metadata": {},
     "output_type": "execute_result"
    }
   ],
   "source": [
    "%%sql\n",
    "SELECT COUNT(*)\n",
    "FROM C \n",
    "CROSS JOIN B ON C.c = B.c;"
   ]
  },
  {
   "cell_type": "markdown",
   "metadata": {},
   "source": [
    "Hint: The above should show that join orders that create large intermediate results tend to be slower."
   ]
  },
  {
   "cell_type": "markdown",
   "metadata": {},
   "source": [
    "## TPC-H Query 5\n",
    "\n",
    "In this section we play around with the TPC-H database. TPC-H consists of a database and a set of queries, and is a common benchmark to measure the performance of database systems. It consists of multiple queries that are designed to model queries appearing in business decision support systems. By timing how long time it takes for a system to execute TPC-H queries on the TPC-H database, we can compare the performance of different systems. In this question, we play with Query 5 in TPC-H, on a smaller version of the TPC-H database.\n",
    "\n",
    "Start by loading the database"
   ]
  },
  {
   "cell_type": "code",
   "execution_count": 15,
   "metadata": {},
   "outputs": [
    {
     "name": "stdout",
     "output_type": "stream",
     "text": [
      "The sql extension is already loaded. To reload it, use:\n",
      "  %reload_ext sql\n"
     ]
    }
   ],
   "source": [
    "%load_ext sql\n",
    "%config SqlMagic.style = '_DEPRECATED_DEFAULT'    \n",
    "%sql sqlite:///TPC-H.db"
   ]
  },
  {
   "cell_type": "markdown",
   "metadata": {},
   "source": [
    "Below is Query 5, which computes the revenue in different regions of the world."
   ]
  },
  {
   "cell_type": "code",
   "execution_count": 16,
   "metadata": {},
   "outputs": [
    {
     "name": "stdout",
     "output_type": "stream",
     "text": [
      "   sqlite:///3path.db\n",
      " * sqlite:///TPC-H.db\n",
      "Done.\n"
     ]
    },
    {
     "data": {
      "text/html": [
       "<table>\n",
       "    <thead>\n",
       "        <tr>\n",
       "            <th>N_NAME</th>\n",
       "            <th>revenue</th>\n",
       "        </tr>\n",
       "    </thead>\n",
       "    <tbody>\n",
       "        <tr>\n",
       "            <td>VIETNAM</td>\n",
       "            <td>1000926.6999</td>\n",
       "        </tr>\n",
       "        <tr>\n",
       "            <td>CHINA</td>\n",
       "            <td>740210.757</td>\n",
       "        </tr>\n",
       "        <tr>\n",
       "            <td>JAPAN</td>\n",
       "            <td>660651.2424999999</td>\n",
       "        </tr>\n",
       "        <tr>\n",
       "            <td>INDONESIA</td>\n",
       "            <td>566379.5276</td>\n",
       "        </tr>\n",
       "        <tr>\n",
       "            <td>INDIA</td>\n",
       "            <td>422874.68439999997</td>\n",
       "        </tr>\n",
       "    </tbody>\n",
       "</table>"
      ],
      "text/plain": [
       "[('VIETNAM', 1000926.6999),\n",
       " ('CHINA', 740210.757),\n",
       " ('JAPAN', 660651.2424999999),\n",
       " ('INDONESIA', 566379.5276),\n",
       " ('INDIA', 422874.68439999997)]"
      ]
     },
     "execution_count": 16,
     "metadata": {},
     "output_type": "execute_result"
    }
   ],
   "source": [
    "%%sql\n",
    "SELECT\n",
    "    n_name, \n",
    "    sum(l_extendedprice * (1 - l_discount)) as revenue\n",
    "FROM\n",
    "    customer,\n",
    "    orders,\n",
    "    lineitem,\n",
    "    supplier,\n",
    "    nation,\n",
    "    region\n",
    "WHERE\n",
    "    c_custkey = o_custkey\n",
    "    AND l_orderkey = o_orderkey\n",
    "    AND l_suppkey = s_suppkey\n",
    "    AND c_nationkey = s_nationkey\n",
    "    AND s_nationkey = n_nationkey\n",
    "    AND n_regionkey = r_regionkey\n",
    "    AND r_name = 'ASIA'\n",
    "    AND o_orderdate >= '1994-01-01'\n",
    "    AND o_orderdate < date('1994-01-01', '+1 year')\n",
    "GROUP BY\n",
    "    n_name\n",
    "ORDER BY\n",
    "    revenue desc;"
   ]
  },
  {
   "cell_type": "markdown",
   "metadata": {},
   "source": [
    "Below we show the query plan that the Sqlite query optimizer picks (obtained with EXPLAIN QUERY PLAN). Note that since this is a join of 5 tables, there are many possible join orders.\n",
    "\n",
    "QUERY PLAN  \n",
    "|--SCAN lineitem  \n",
    "|--SEARCH orders USING INTEGER PRIMARY KEY (rowid=?)  \n",
    "|--SEARCH customer USING INTEGER PRIMARY KEY (rowid=?)  \n",
    "|--SEARCH supplier USING INTEGER PRIMARY KEY (rowid=?)  \n",
    "|--SEARCH nation USING INTEGER PRIMARY KEY (rowid=?)  \n",
    "|--SEARCH region USING INTEGER PRIMARY KEY (rowid=?)  \n",
    "|--USE TEMP B-TREE FOR GROUP BY  \n",
    "`--USE TEMP B-TREE FOR ORDER BY  "
   ]
  },
  {
   "cell_type": "markdown",
   "metadata": {},
   "source": [
    "### Question 4 (5 points)\n",
    "For the join order picked above by sqlite\n",
    "* Rewrite the query to use CROSS JOIN\n",
    "* Measure how long time it takes with sqlite .timer. Paste your result"
   ]
  },
  {
   "cell_type": "code",
   "execution_count": 17,
   "metadata": {},
   "outputs": [
    {
     "name": "stdout",
     "output_type": "stream",
     "text": [
      "   sqlite:///3path.db\n",
      " * sqlite:///TPC-H.db\n",
      "Done.\n"
     ]
    },
    {
     "data": {
      "text/html": [
       "<table>\n",
       "    <thead>\n",
       "        <tr>\n",
       "            <th>N_NAME</th>\n",
       "            <th>revenue</th>\n",
       "        </tr>\n",
       "    </thead>\n",
       "    <tbody>\n",
       "        <tr>\n",
       "            <td>VIETNAM</td>\n",
       "            <td>1000926.6999</td>\n",
       "        </tr>\n",
       "        <tr>\n",
       "            <td>CHINA</td>\n",
       "            <td>740210.757</td>\n",
       "        </tr>\n",
       "        <tr>\n",
       "            <td>JAPAN</td>\n",
       "            <td>660651.2424999999</td>\n",
       "        </tr>\n",
       "        <tr>\n",
       "            <td>INDONESIA</td>\n",
       "            <td>566379.5276</td>\n",
       "        </tr>\n",
       "        <tr>\n",
       "            <td>INDIA</td>\n",
       "            <td>422874.68439999997</td>\n",
       "        </tr>\n",
       "    </tbody>\n",
       "</table>"
      ],
      "text/plain": [
       "[('VIETNAM', 1000926.6999),\n",
       " ('CHINA', 740210.757),\n",
       " ('JAPAN', 660651.2424999999),\n",
       " ('INDONESIA', 566379.5276),\n",
       " ('INDIA', 422874.68439999997)]"
      ]
     },
     "execution_count": 17,
     "metadata": {},
     "output_type": "execute_result"
    }
   ],
   "source": [
    "%%sql\n",
    "SELECT\n",
    "    n_name, \n",
    "    SUM(l_extendedprice * (1 - l_discount)) AS revenue\n",
    "FROM\n",
    "    lineitem\n",
    "    CROSS JOIN orders\n",
    "    CROSS JOIN customer\n",
    "    CROSS JOIN supplier\n",
    "    CROSS JOIN nation\n",
    "    CROSS JOIN region\n",
    "WHERE\n",
    "    l_orderkey = o_orderkey\n",
    "    AND o_custkey = c_custkey\n",
    "    AND l_suppkey = s_suppkey\n",
    "    AND c_nationkey = s_nationkey\n",
    "    AND s_nationkey = n_nationkey\n",
    "    AND n_regionkey = r_regionkey\n",
    "    AND r_name = 'ASIA'\n",
    "    AND o_orderdate >= '1994-01-01'\n",
    "    AND o_orderdate < date('1994-01-01', '+1 year')\n",
    "GROUP BY n_name\n",
    "ORDER BY revenue DESC;"
   ]
  },
  {
   "cell_type": "code",
   "execution_count": null,
   "metadata": {},
   "outputs": [],
   "source": [
    "time=0.010;"
   ]
  },
  {
   "cell_type": "markdown",
   "metadata": {},
   "source": [
    "### Question 5 (10 points)\n",
    "Find another join order, where the performance is worse (the time to run is longer)\n",
    "* Write the query with your picked join order using CROSS JOIN\n",
    "* Measure how long time it takes with sqlite .timer. Paste your result\n",
    "\n",
    "*Hint*: You can make it run an order of magnitude slower."
   ]
  },
  {
   "cell_type": "code",
   "execution_count": null,
   "metadata": {},
   "outputs": [
    {
     "name": "stdout",
     "output_type": "stream",
     "text": [
      "   sqlite:///3path.db\n",
      " * sqlite:///TPC-H.db\n",
      "Done.\n"
     ]
    },
    {
     "data": {
      "text/html": [
       "<table>\n",
       "    <thead>\n",
       "        <tr>\n",
       "            <th>N_NAME</th>\n",
       "            <th>revenue</th>\n",
       "        </tr>\n",
       "    </thead>\n",
       "    <tbody>\n",
       "        <tr>\n",
       "            <td>VIETNAM</td>\n",
       "            <td>1000926.6999</td>\n",
       "        </tr>\n",
       "        <tr>\n",
       "            <td>CHINA</td>\n",
       "            <td>740210.757</td>\n",
       "        </tr>\n",
       "        <tr>\n",
       "            <td>JAPAN</td>\n",
       "            <td>660651.2424999999</td>\n",
       "        </tr>\n",
       "        <tr>\n",
       "            <td>INDONESIA</td>\n",
       "            <td>566379.5276</td>\n",
       "        </tr>\n",
       "        <tr>\n",
       "            <td>INDIA</td>\n",
       "            <td>422874.68439999997</td>\n",
       "        </tr>\n",
       "    </tbody>\n",
       "</table>"
      ],
      "text/plain": [
       "[('VIETNAM', 1000926.6999),\n",
       " ('CHINA', 740210.757),\n",
       " ('JAPAN', 660651.2424999999),\n",
       " ('INDONESIA', 566379.5276),\n",
       " ('INDIA', 422874.68439999997)]"
      ]
     },
     "execution_count": 19,
     "metadata": {},
     "output_type": "execute_result"
    }
   ],
   "source": [
    "%%sql\n",
    "SELECT\n",
    "    n_name, \n",
    "    sum(l_extendedprice * (1 - l_discount)) as revenue\n",
    "FROM lineitem\n",
    "CROSS JOIN customer ON c_custkey = o_custkey\n",
    "CROSS JOIN orders ON o_orderkey = l_orderkey\n",
    "CROSS JOIN nation ON n_nationkey = s_nationkey\n",
    "CROSS JOIN region ON r_regionkey = n_regionkey\n",
    "CROSS JOIN supplier ON s_nationkey = c_nationkey AND s_suppkey = l_suppkey\n",
    "WHERE\n",
    "    r_name = 'ASIA'\n",
    "    AND o_orderdate >= '1994-01-01'\n",
    "    AND o_orderdate < date('1994-01-01', '+1 year')\n",
    "GROUP BY\n",
    "    n_name\n",
    "ORDER BY\n",
    "    revenue desc;"
   ]
  },
  {
   "cell_type": "code",
   "execution_count": null,
   "metadata": {},
   "outputs": [],
   "source": [
    "time=6.273;"
   ]
  },
  {
   "cell_type": "markdown",
   "metadata": {},
   "source": [
    "### Question 6 (10 points)\n",
    "It turns out that the join order picked by sqlite is not optimal. By using CROSS JOIN as described earlier, and picking a better join order, we can speed up the query. Find such a join order. \n",
    "* Write the query with your picked join order using CROSS JOIN\n",
    "* Measure how long time it takes with sqlite .timer. Paste your result\n",
    "\n",
    "*Hint*: The join order picked by sqlite starts by computing the join (LineItem, Orders, Customer, Supplier). This intermediate result contains tuples related to any region in the world. Those not related to the region Asia are removed only in the last join. Can we do this filtering earlier, and thereby reducing the size of the intermediate relations?"
   ]
  },
  {
   "cell_type": "code",
   "execution_count": null,
   "metadata": {},
   "outputs": [
    {
     "name": "stdout",
     "output_type": "stream",
     "text": [
      "   sqlite:///3path.db\n",
      " * sqlite:///TPC-H.db\n",
      "Done.\n"
     ]
    },
    {
     "data": {
      "text/html": [
       "<table>\n",
       "    <thead>\n",
       "        <tr>\n",
       "            <th>N_NAME</th>\n",
       "            <th>revenue</th>\n",
       "        </tr>\n",
       "    </thead>\n",
       "    <tbody>\n",
       "        <tr>\n",
       "            <td>VIETNAM</td>\n",
       "            <td>1000926.6999</td>\n",
       "        </tr>\n",
       "        <tr>\n",
       "            <td>CHINA</td>\n",
       "            <td>740210.757</td>\n",
       "        </tr>\n",
       "        <tr>\n",
       "            <td>JAPAN</td>\n",
       "            <td>660651.2424999999</td>\n",
       "        </tr>\n",
       "        <tr>\n",
       "            <td>INDONESIA</td>\n",
       "            <td>566379.5276</td>\n",
       "        </tr>\n",
       "        <tr>\n",
       "            <td>INDIA</td>\n",
       "            <td>422874.68439999997</td>\n",
       "        </tr>\n",
       "    </tbody>\n",
       "</table>"
      ],
      "text/plain": [
       "[('VIETNAM', 1000926.6999),\n",
       " ('CHINA', 740210.757),\n",
       " ('JAPAN', 660651.2424999999),\n",
       " ('INDONESIA', 566379.5276),\n",
       " ('INDIA', 422874.68439999997)]"
      ]
     },
     "execution_count": 21,
     "metadata": {},
     "output_type": "execute_result"
    }
   ],
   "source": [
    "%%sql\n",
    "SELECT\n",
    "    n_name, \n",
    "    SUM(l_extendedprice * (1 - l_discount)) AS revenue\n",
    "FROM\n",
    "    region\n",
    "    CROSS JOIN nation\n",
    "    CROSS JOIN customer\n",
    "    CROSS JOIN orders\n",
    "    CROSS JOIN lineitem\n",
    "    CROSS JOIN supplier\n",
    "WHERE\n",
    "    r_name = 'ASIA'\n",
    "    AND n_regionkey = r_regionkey\n",
    "    AND c_nationkey = n_nationkey\n",
    "    AND o_custkey = c_custkey\n",
    "    AND l_orderkey = o_orderkey\n",
    "    AND l_suppkey = s_suppkey\n",
    "    AND s_nationkey = n_nationkey\n",
    "    AND o_orderdate >= '1994-01-01'\n",
    "    AND o_orderdate < date('1994-01-01', '+1 year')\n",
    "GROUP BY n_name\n",
    "ORDER BY revenue DESC;\n"
   ]
  },
  {
   "cell_type": "code",
   "execution_count": null,
   "metadata": {},
   "outputs": [],
   "source": [
    "time=0.003;"
   ]
  },
  {
   "cell_type": "markdown",
   "metadata": {},
   "source": [
    "### Question 7 (10 points)\n",
    "Next, we will see if we can make the query run even faster by adding indexes. Try to add two indexes to make the query run as fast as you can.\n",
    "* Write the query with your picked join order using CROSS JOIN\n",
    "* Measure how long time it takes with sqlite .timer. Paste your result. It should run in a small number of milliseconds.\n",
    "\n",
    "Make sure that if you rerun the queries above after creating the indexes, you run DROP INDEX ..."
   ]
  },
  {
   "cell_type": "code",
   "execution_count": 23,
   "metadata": {},
   "outputs": [
    {
     "name": "stdout",
     "output_type": "stream",
     "text": [
      "   sqlite:///3path.db\n",
      " * sqlite:///TPC-H.db\n",
      "(sqlite3.OperationalError) index idx_region_name already exists\n",
      "[SQL: CREATE INDEX idx_region_name ON region(r_name);]\n",
      "(Background on this error at: https://sqlalche.me/e/20/e3q8)\n"
     ]
    }
   ],
   "source": [
    "%%sql\n",
    "CREATE INDEX idx_region_name ON region(r_name);\n",
    "CREATE INDEX idx_orders_orderdate ON orders(o_orderdate);"
   ]
  },
  {
   "cell_type": "code",
   "execution_count": 24,
   "metadata": {},
   "outputs": [
    {
     "name": "stdout",
     "output_type": "stream",
     "text": [
      "   sqlite:///3path.db\n",
      " * sqlite:///TPC-H.db\n",
      "Done.\n"
     ]
    },
    {
     "data": {
      "text/html": [
       "<table>\n",
       "    <thead>\n",
       "        <tr>\n",
       "            <th>N_NAME</th>\n",
       "            <th>revenue</th>\n",
       "        </tr>\n",
       "    </thead>\n",
       "    <tbody>\n",
       "        <tr>\n",
       "            <td>VIETNAM</td>\n",
       "            <td>1000926.6999</td>\n",
       "        </tr>\n",
       "        <tr>\n",
       "            <td>CHINA</td>\n",
       "            <td>740210.757</td>\n",
       "        </tr>\n",
       "        <tr>\n",
       "            <td>JAPAN</td>\n",
       "            <td>660651.2424999999</td>\n",
       "        </tr>\n",
       "        <tr>\n",
       "            <td>INDONESIA</td>\n",
       "            <td>566379.5276</td>\n",
       "        </tr>\n",
       "        <tr>\n",
       "            <td>INDIA</td>\n",
       "            <td>422874.68439999997</td>\n",
       "        </tr>\n",
       "    </tbody>\n",
       "</table>"
      ],
      "text/plain": [
       "[('VIETNAM', 1000926.6999),\n",
       " ('CHINA', 740210.757),\n",
       " ('JAPAN', 660651.2424999999),\n",
       " ('INDONESIA', 566379.5276),\n",
       " ('INDIA', 422874.68439999997)]"
      ]
     },
     "execution_count": 24,
     "metadata": {},
     "output_type": "execute_result"
    }
   ],
   "source": [
    "%%sql\n",
    "SELECT\n",
    "    n_name, \n",
    "    SUM(l_extendedprice * (1 - l_discount)) AS revenue\n",
    "FROM\n",
    "    region\n",
    "    CROSS JOIN nation\n",
    "    CROSS JOIN customer\n",
    "    CROSS JOIN orders\n",
    "    CROSS JOIN lineitem\n",
    "    CROSS JOIN supplier\n",
    "WHERE\n",
    "    r_name = 'ASIA'\n",
    "    AND n_regionkey = r_regionkey\n",
    "    AND c_nationkey = n_nationkey\n",
    "    AND o_custkey = c_custkey\n",
    "    AND l_orderkey = o_orderkey\n",
    "    AND l_suppkey = s_suppkey\n",
    "    AND s_nationkey = n_nationkey\n",
    "    AND o_orderdate >= '1994-01-01'\n",
    "    AND o_orderdate < date('1994-01-01', '+1 year')\n",
    "GROUP BY n_name\n",
    "ORDER BY revenue DESC;\n"
   ]
  },
  {
   "cell_type": "code",
   "execution_count": 25,
   "metadata": {},
   "outputs": [],
   "source": [
    "time=0.004;"
   ]
  },
  {
   "cell_type": "code",
   "execution_count": 26,
   "metadata": {},
   "outputs": [
    {
     "name": "stdout",
     "output_type": "stream",
     "text": [
      "   sqlite:///3path.db\n",
      " * sqlite:///TPC-H.db\n",
      "Done.\n",
      "Done.\n"
     ]
    },
    {
     "data": {
      "text/plain": [
       "[]"
      ]
     },
     "execution_count": 26,
     "metadata": {},
     "output_type": "execute_result"
    }
   ],
   "source": [
    "%%sql\n",
    "DROP INDEX IF EXISTS idx_region_name;\n",
    "DROP INDEX IF EXISTS idx_orders_orderdate;"
   ]
  }
 ],
 "metadata": {
  "kernelspec": {
   "display_name": "Python 3",
   "language": "python",
   "name": "python3"
  },
  "language_info": {
   "codemirror_mode": {
    "name": "ipython",
    "version": 3
   },
   "file_extension": ".py",
   "mimetype": "text/x-python",
   "name": "python",
   "nbconvert_exporter": "python",
   "pygments_lexer": "ipython3",
   "version": "3.12.4"
  }
 },
 "nbformat": 4,
 "nbformat_minor": 4
}
