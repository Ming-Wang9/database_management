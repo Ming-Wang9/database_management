{
 "cells": [
  {
   "cell_type": "markdown",
   "metadata": {
    "slideshow": {
     "slide_type": "skip"
    }
   },
   "source": [
    "Aggregation in SQL\n",
    "-----"
   ]
  },
  {
   "cell_type": "code",
   "execution_count": 2,
   "metadata": {
    "collapsed": true,
    "jupyter": {
     "outputs_hidden": true
    },
    "slideshow": {
     "slide_type": "skip"
    }
   },
   "outputs": [],
   "source": [
    "%load_ext sql\n",
    "%config SqlMagic.style = '_DEPRECATED_DEFAULT'\n",
    "%sql sqlite:///world-db"
   ]
  },
  {
   "cell_type": "markdown",
   "metadata": {},
   "source": [
    "**Exercise #1**: Write a query that outputs for each country the population of the most populated city, for countries with at least 10 cities."
   ]
  },
  {
   "cell_type": "code",
   "execution_count": null,
   "metadata": {},
   "outputs": [],
   "source": [
    "%%sql\n",
    "SELECT Country.Name AS country, MAX(City.Population) AS pop\n",
    "FROM Country\n",
    "JOIN City ON Country.Code = City.CountryCode\n",
    "GROUP BY Country.Name\n",
    "HAVING COUNT(City.ID) > 10"
   ]
  },
  {
   "cell_type": "code",
   "execution_count": null,
   "metadata": {
    "collapsed": true,
    "jupyter": {
     "outputs_hidden": true
    }
   },
   "outputs": [],
   "source": [
    "%%sql\n",
    "SELECT C.NAME AS Country, MAX(T.Population) AS N\n",
    "FROM City T, Country C\n",
    "WHERE C.Code = T.CountryCode\n",
    "GROUP BY C.Name\n",
    "HAVING COUNT(T.ID) > 9\n",
    "ORDER BY N DESC ;"
   ]
  },
  {
   "cell_type": "markdown",
   "metadata": {},
   "source": [
    "Let's see how the use of `HAVING` compares with the use of correlated queries. Suppose that we want to find the names of the countries that have more than 10 cities with population at least 1 million. Here is a nested query that computes that: "
   ]
  },
  {
   "cell_type": "code",
   "execution_count": 3,
   "metadata": {},
   "outputs": [
    {
     "name": "stdout",
     "output_type": "stream",
     "text": [
      " * sqlite:///world-db\n",
      "Done.\n"
     ]
    },
    {
     "data": {
      "text/html": [
       "<table>\n",
       "    <thead>\n",
       "        <tr>\n",
       "            <th>ID</th>\n",
       "            <th>Name</th>\n",
       "            <th>CountryCode</th>\n",
       "            <th>District</th>\n",
       "            <th>Population</th>\n",
       "        </tr>\n",
       "    </thead>\n",
       "    <tbody>\n",
       "        <tr>\n",
       "            <td>1</td>\n",
       "            <td>Kabul</td>\n",
       "            <td>AFG</td>\n",
       "            <td>Kabol</td>\n",
       "            <td>1780000</td>\n",
       "        </tr>\n",
       "        <tr>\n",
       "            <td>2</td>\n",
       "            <td>Qandahar</td>\n",
       "            <td>AFG</td>\n",
       "            <td>Qandahar</td>\n",
       "            <td>237500</td>\n",
       "        </tr>\n",
       "    </tbody>\n",
       "</table>"
      ],
      "text/plain": [
       "[(1, 'Kabul', 'AFG', 'Kabol', 1780000),\n",
       " (2, 'Qandahar', 'AFG', 'Qandahar', 237500)]"
      ]
     },
     "execution_count": 3,
     "metadata": {},
     "output_type": "execute_result"
    }
   ],
   "source": [
    "%sql SELECT * FROM City LIMIT 2;"
   ]
  },
  {
   "cell_type": "code",
   "execution_count": 4,
   "metadata": {},
   "outputs": [
    {
     "name": "stdout",
     "output_type": "stream",
     "text": [
      " * sqlite:///world-db\n",
      "Done.\n"
     ]
    },
    {
     "data": {
      "text/html": [
       "<table>\n",
       "    <thead>\n",
       "        <tr>\n",
       "            <th>Code</th>\n",
       "            <th>Name</th>\n",
       "            <th>Continent</th>\n",
       "            <th>Region</th>\n",
       "            <th>SurfaceArea</th>\n",
       "            <th>IndepYear</th>\n",
       "            <th>Population</th>\n",
       "            <th>LifeExpectancy</th>\n",
       "            <th>GNP</th>\n",
       "            <th>GNPOld</th>\n",
       "            <th>LocalName</th>\n",
       "            <th>GovernmentForm</th>\n",
       "            <th>HeadOfState</th>\n",
       "            <th>Capital</th>\n",
       "            <th>Code2</th>\n",
       "        </tr>\n",
       "    </thead>\n",
       "    <tbody>\n",
       "        <tr>\n",
       "            <td>ABW</td>\n",
       "            <td>Aruba</td>\n",
       "            <td>North America</td>\n",
       "            <td>Caribbean</td>\n",
       "            <td>193.0</td>\n",
       "            <td>None</td>\n",
       "            <td>103000</td>\n",
       "            <td>78.4</td>\n",
       "            <td>828.0</td>\n",
       "            <td>793.0</td>\n",
       "            <td>Aruba</td>\n",
       "            <td>Nonmetropolitan Territory of The Netherlands</td>\n",
       "            <td>Beatrix</td>\n",
       "            <td>129</td>\n",
       "            <td>AW</td>\n",
       "        </tr>\n",
       "    </tbody>\n",
       "</table>"
      ],
      "text/plain": [
       "[('ABW', 'Aruba', 'North America', 'Caribbean', 193.0, None, 103000, 78.4, 828.0, 793.0, 'Aruba', 'Nonmetropolitan Territory of The Netherlands', 'Beatrix', 129, 'AW')]"
      ]
     },
     "execution_count": 4,
     "metadata": {},
     "output_type": "execute_result"
    }
   ],
   "source": [
    "%sql SELECT * FROM Country LIMIT 1;"
   ]
  },
  {
   "cell_type": "code",
   "execution_count": 3,
   "metadata": {
    "collapsed": true,
    "jupyter": {
     "outputs_hidden": true
    }
   },
   "outputs": [
    {
     "name": "stdout",
     "output_type": "stream",
     "text": [
      " * sqlite:///world-db\n",
      "Done.\n"
     ]
    },
    {
     "data": {
      "text/html": [
       "<table>\n",
       "    <thead>\n",
       "        <tr>\n",
       "            <th>Name</th>\n",
       "        </tr>\n",
       "    </thead>\n",
       "    <tbody>\n",
       "        <tr>\n",
       "            <td>Brazil</td>\n",
       "        </tr>\n",
       "        <tr>\n",
       "            <td>China</td>\n",
       "        </tr>\n",
       "        <tr>\n",
       "            <td>India</td>\n",
       "        </tr>\n",
       "        <tr>\n",
       "            <td>Japan</td>\n",
       "        </tr>\n",
       "        <tr>\n",
       "            <td>Russian Federation</td>\n",
       "        </tr>\n",
       "    </tbody>\n",
       "</table>"
      ],
      "text/plain": [
       "[('Brazil',), ('China',), ('India',), ('Japan',), ('Russian Federation',)]"
      ]
     },
     "execution_count": 3,
     "metadata": {},
     "output_type": "execute_result"
    }
   ],
   "source": [
    "%%sql\n",
    "SELECT C.name\n",
    "FROM Country C\n",
    "WHERE (SELECT COUNT(*) \n",
    "       FROM City\n",
    "       WHERE City.CountryCode=C.Code\n",
    "       AND City.Population >= 1000000) > 10; "
   ]
  },
  {
   "cell_type": "markdown",
   "metadata": {},
   "source": [
    "We can measure the execution time of the query using `%time`."
   ]
  },
  {
   "cell_type": "code",
   "execution_count": 4,
   "metadata": {
    "collapsed": true,
    "jupyter": {
     "outputs_hidden": true
    }
   },
   "outputs": [
    {
     "name": "stdout",
     "output_type": "stream",
     "text": [
      " * sqlite:///world-db\n",
      "Done.\n",
      "CPU times: user 34.6 ms, sys: 957 µs, total: 35.6 ms\n",
      "Wall time: 35.3 ms\n"
     ]
    }
   ],
   "source": [
    "%time %sql SELECT C.name FROM Country C WHERE (SELECT COUNT(*) FROM City WHERE City.CountryCode=C.Code AND City.Population >= 1000000) > 10; "
   ]
  },
  {
   "cell_type": "markdown",
   "metadata": {},
   "source": [
    "**Exercise #2**: Write the above query using `HAVING` and time its execution. How much faster does it run?"
   ]
  },
  {
   "cell_type": "code",
   "execution_count": 6,
   "metadata": {
    "collapsed": true,
    "jupyter": {
     "outputs_hidden": true
    }
   },
   "outputs": [
    {
     "name": "stdout",
     "output_type": "stream",
     "text": [
      " * sqlite:///world-db\n",
      "Done.\n",
      "CPU times: user 2.98 ms, sys: 1.39 ms, total: 4.37 ms\n",
      "Wall time: 4.14 ms\n"
     ]
    }
   ],
   "source": [
    "%time %sql SELECT C.name FROM Country C, City T WHERE T.CountryCode=C.Code AND T.Population >= 1000000 GROUP BY C.name HAVING COUNT(*)> 10; "
   ]
  }
 ],
 "metadata": {
  "kernelspec": {
   "display_name": "Python 3",
   "language": "python",
   "name": "python3"
  },
  "language_info": {
   "codemirror_mode": {
    "name": "ipython",
    "version": 3
   },
   "file_extension": ".py",
   "mimetype": "text/x-python",
   "name": "python",
   "nbconvert_exporter": "python",
   "pygments_lexer": "ipython3",
   "version": "3.12.4"
  }
 },
 "nbformat": 4,
 "nbformat_minor": 4
}
