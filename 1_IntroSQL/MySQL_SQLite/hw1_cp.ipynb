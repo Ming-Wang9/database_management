{
 "cells": [
  {
   "cell_type": "code",
   "execution_count": 1,
   "metadata": {},
   "outputs": [],
   "source": [
    "%load_ext sql\n",
    "%config SqlMagic.style = '_DEPRECATED_DEFAULT'    \n",
    "%sql sqlite:///PS1.db"
   ]
  },
  {
   "cell_type": "markdown",
   "metadata": {},
   "source": [
    "Problem Set 1 [100 points]\n",
    "=======\n",
    "\n",
    "### Deliverables:\n",
    "\n",
    "Submit your queries (and only those) using the `submission_template.txt` file that is posted on Canvas. Follow the instructions on the file! Upload the file at Canvas.\n",
    "\n",
    "\n",
    "### Instructions / Notes:\n",
    "\n",
    "* Run the top cell above to load the database `PS1.db` (make sure the database file, `PS1.db`, is in the same directory as this IPython notebook is running in)\n",
    "* Some of the problems involve _changing_ this database (e.g. deleting rows)- you can always re-download `PS1.db` or make a copy if you want to start fresh!\n",
    "* You **may** create new IPython notebook cells to use for e.g. testing, debugging, exploring, etc.- this is encouraged in fact!- **just make sure that your final answer for each question is _in its own cell_ and _clearly indicated_**\n",
    "* When you see `In [*]:` to the left of the cell you are executing, this means that the code / query is _running_.\n",
    "    * **If the cell is hanging- i.e. running for too long: To restart the SQL connection, you must restart the entire python kernel**\n",
    "    * To restart kernel using the menu bar: \"Kernel >> Restart >> Clear all outputs & restart\"), then re-execute the sql connection cell at top\n",
    "    * You will also need to restart the connection if you want to load a different version of the database file\n",
    "* Remember:\n",
    "    * `%sql [SQL]` is for _single line_ SQL queries\n",
    "    * `%%sql [SQL]` is for _multi line_ SQL queries\n",
    "* _Have fun!_"
   ]
  },
  {
   "cell_type": "markdown",
   "metadata": {},
   "source": [
    "Problem 1: Linear Algebra [30 points]\n",
    "------------------------\n",
    "\n",
    "Two random 3x3 ($N=3$) matrices have been provided in tables `A` and `B`, having the following schema:\n",
    "> * `i INT`:   Row index\n",
    "> * `j INT`:   Column index\n",
    "> * `val INT`: Cell value\n",
    "\n",
    "**Note: all of your answers below _must_ work for any _square_ matrix sizes, i.e. any value of $N$**.\n",
    "\n",
    "Note how the matrices are represented - why do we choose this format?  Run the following queries to see the matrices in a nice format:"
   ]
  },
  {
   "cell_type": "code",
   "execution_count": 60,
   "metadata": {},
   "outputs": [
    {
     "name": "stdout",
     "output_type": "stream",
     "text": [
      " * sqlite:///PS1.db\n",
      "Done.\n"
     ]
    },
    {
     "data": {
      "text/html": [
       "<table>\n",
       "    <thead>\n",
       "        <tr>\n",
       "            <th>A</th>\n",
       "        </tr>\n",
       "    </thead>\n",
       "    <tbody>\n",
       "        <tr>\n",
       "            <td>7 , 5 , 8</td>\n",
       "        </tr>\n",
       "        <tr>\n",
       "            <td>10 , 7 , 7</td>\n",
       "        </tr>\n",
       "        <tr>\n",
       "            <td>2 , 0 , 5</td>\n",
       "        </tr>\n",
       "    </tbody>\n",
       "</table>"
      ],
      "text/plain": [
       "[('7 , 5 , 8',), ('10 , 7 , 7',), ('2 , 0 , 5',)]"
      ]
     },
     "execution_count": 60,
     "metadata": {},
     "output_type": "execute_result"
    }
   ],
   "source": [
    "%sql SELECT group_concat(val, \" , \") AS \"A\" FROM A GROUP BY i;"
   ]
  },
  {
   "cell_type": "code",
   "execution_count": 61,
   "metadata": {},
   "outputs": [
    {
     "name": "stdout",
     "output_type": "stream",
     "text": [
      " * sqlite:///PS1.db\n",
      "Done.\n"
     ]
    },
    {
     "data": {
      "text/html": [
       "<table>\n",
       "    <thead>\n",
       "        <tr>\n",
       "            <th>B</th>\n",
       "        </tr>\n",
       "    </thead>\n",
       "    <tbody>\n",
       "        <tr>\n",
       "            <td>9 , 6 , 10</td>\n",
       "        </tr>\n",
       "        <tr>\n",
       "            <td>7 , 6 , 9</td>\n",
       "        </tr>\n",
       "        <tr>\n",
       "            <td>1 , 1 , 7</td>\n",
       "        </tr>\n",
       "    </tbody>\n",
       "</table>"
      ],
      "text/plain": [
       "[('9 , 6 , 10',), ('7 , 6 , 9',), ('1 , 1 , 7',)]"
      ]
     },
     "execution_count": 61,
     "metadata": {},
     "output_type": "execute_result"
    }
   ],
   "source": [
    "%sql SELECT group_concat(val, \" , \") AS \"B\" FROM B GROUP BY i;"
   ]
  },
  {
   "cell_type": "markdown",
   "metadata": {},
   "source": [
    "### Part (a): Matrix addition [5 points]\n",
    "\n",
    "The sum of a matrix $A$ (having dimensions $n\\times m$) and a matrix $B$ (having dimensions $n\\times m$) is the matrix $C$ (of dimension $n\\times m$) having cell at row $i$ and column $j$ equal to:\n",
    "\n",
    "$C_{ij} = A_{ij} + B_{ij}$\n",
    "\n",
    "Write a single SQL query to get the sum of $A$ and $B$ (in the same format as $A$ and $B$):"
   ]
  },
  {
   "cell_type": "code",
   "execution_count": 62,
   "metadata": {},
   "outputs": [
    {
     "data": {
      "text/plain": [
       "\"\\nExpected output below- don't re-evaluate this cell!\\n\\nNOTE: A valid answer must work for ALL inputs of the given type,\\nnot just this example.  I.e. do not hardcode around this answer / etc!\\n\""
      ]
     },
     "execution_count": 62,
     "metadata": {},
     "output_type": "execute_result"
    }
   ],
   "source": [
    "\"\"\"\n",
    "Expected output below- don't re-evaluate this cell!\n",
    "\n",
    "NOTE: A valid answer must work for ALL inputs of the given type,\n",
    "not just this example.  I.e. do not hardcode around this answer / etc!\n",
    "\"\"\"\n"
   ]
  },
  {
   "cell_type": "code",
   "execution_count": 68,
   "metadata": {},
   "outputs": [
    {
     "name": "stdout",
     "output_type": "stream",
     "text": [
      " * sqlite:///PS1.db\n",
      "Done.\n"
     ]
    },
    {
     "data": {
      "text/html": [
       "<table>\n",
       "    <thead>\n",
       "        <tr>\n",
       "            <th>i</th>\n",
       "            <th>j</th>\n",
       "            <th>val</th>\n",
       "        </tr>\n",
       "    </thead>\n",
       "    <tbody>\n",
       "        <tr>\n",
       "            <td>0</td>\n",
       "            <td>0</td>\n",
       "            <td>16</td>\n",
       "        </tr>\n",
       "        <tr>\n",
       "            <td>0</td>\n",
       "            <td>1</td>\n",
       "            <td>11</td>\n",
       "        </tr>\n",
       "        <tr>\n",
       "            <td>0</td>\n",
       "            <td>2</td>\n",
       "            <td>18</td>\n",
       "        </tr>\n",
       "        <tr>\n",
       "            <td>1</td>\n",
       "            <td>0</td>\n",
       "            <td>17</td>\n",
       "        </tr>\n",
       "        <tr>\n",
       "            <td>1</td>\n",
       "            <td>1</td>\n",
       "            <td>13</td>\n",
       "        </tr>\n",
       "        <tr>\n",
       "            <td>1</td>\n",
       "            <td>2</td>\n",
       "            <td>16</td>\n",
       "        </tr>\n",
       "        <tr>\n",
       "            <td>2</td>\n",
       "            <td>0</td>\n",
       "            <td>3</td>\n",
       "        </tr>\n",
       "        <tr>\n",
       "            <td>2</td>\n",
       "            <td>1</td>\n",
       "            <td>1</td>\n",
       "        </tr>\n",
       "        <tr>\n",
       "            <td>2</td>\n",
       "            <td>2</td>\n",
       "            <td>12</td>\n",
       "        </tr>\n",
       "    </tbody>\n",
       "</table>"
      ],
      "text/plain": [
       "[(0, 0, 16),\n",
       " (0, 1, 11),\n",
       " (0, 2, 18),\n",
       " (1, 0, 17),\n",
       " (1, 1, 13),\n",
       " (1, 2, 16),\n",
       " (2, 0, 3),\n",
       " (2, 1, 1),\n",
       " (2, 2, 12)]"
      ]
     },
     "execution_count": 68,
     "metadata": {},
     "output_type": "execute_result"
    }
   ],
   "source": [
    "%%sql\n",
    "SELECT A.i, A.j, (A.val + B.val) AS val\n",
    "FROM A\n",
    "JOIN B ON A.i = B.i \n",
    "AND A.j = B.j\n",
    "ORDER BY A.i, A.j\n"
   ]
  },
  {
   "cell_type": "markdown",
   "metadata": {},
   "source": [
    "### Part (b): Dot product [5 points]\n",
    "\n",
    "The _dot product_ of two vectors\n",
    "\n",
    "$a = \\begin{bmatrix}a_1 & a_2 & \\dots & a_n\\end{bmatrix}$\n",
    "\n",
    "and\n",
    "\n",
    "$b = \\begin{bmatrix}b_1 & b_2 & \\dots & b_n\\end{bmatrix}$\n",
    "\n",
    "is\n",
    "\n",
    "$a\\cdot b = \\sum_{i=1}^n a_ib_i = a_1b_1 + a_2b_2 + \\dots + a_nb_n$\n",
    "\n",
    "Write a _single SQL query_ to take the dot product of the **first column of $A$** and the **second column of $B$.**:"
   ]
  },
  {
   "cell_type": "code",
   "execution_count": 66,
   "metadata": {},
   "outputs": [
    {
     "data": {
      "text/plain": [
       "\"\\nExpected output below- don't re-evaluate this cell!\\n\\nNOTE: A valid answer must work for ALL inputs of the given type,\\nnot just this example.  I.e. do not hardcode around this answer / etc!\\n\""
      ]
     },
     "execution_count": 66,
     "metadata": {},
     "output_type": "execute_result"
    }
   ],
   "source": [
    "\"\"\"\n",
    "Expected output below- don't re-evaluate this cell!\n",
    "\n",
    "NOTE: A valid answer must work for ALL inputs of the given type,\n",
    "not just this example.  I.e. do not hardcode around this answer / etc!\n",
    "\"\"\""
   ]
  },
  {
   "cell_type": "code",
   "execution_count": 69,
   "metadata": {},
   "outputs": [
    {
     "name": "stdout",
     "output_type": "stream",
     "text": [
      " * sqlite:///PS1.db\n",
      "Done.\n"
     ]
    },
    {
     "data": {
      "text/html": [
       "<table>\n",
       "    <thead>\n",
       "        <tr>\n",
       "            <th>DotProduct</th>\n",
       "        </tr>\n",
       "    </thead>\n",
       "    <tbody>\n",
       "        <tr>\n",
       "            <td>104</td>\n",
       "        </tr>\n",
       "    </tbody>\n",
       "</table>"
      ],
      "text/plain": [
       "[(104,)]"
      ]
     },
     "execution_count": 69,
     "metadata": {},
     "output_type": "execute_result"
    }
   ],
   "source": [
    "%%sql\n",
    "SELECT sum(A.val * B.val) AS DotProduct\n",
    "FROM A\n",
    "JOIN B ON A.i = B.i\n",
    "WHERE A.j = 0\n",
    "AND B.j = 1;"
   ]
  },
  {
   "cell_type": "markdown",
   "metadata": {},
   "source": [
    "### Part (c): Matrix multiplication [10 points]\n",
    "\n",
    "The product of a matrix $A$ (having dimensions $n\\times m$) and a matrix $B$ (having dimensions $m\\times p$) is the matrix $C$ (of dimension $n\\times p$) having cell at row $i$ and column $j$ equal to:\n",
    "\n",
    "$C_{ij} = \\sum_{k=1}^m A_{ik}B_{kj}$\n",
    "\n",
    "In other words, to multiply two matrices, get each cell of the resulting matrix $C$, $C_{ij}$, by taking the _dot product_ of the $i$th row of $A$ and the $j$th column of $B$.\n",
    "\n",
    "Write a single SQL query to get the matrix product of $A$ and $B$ (in the same format as $A$ and $B$):"
   ]
  },
  {
   "cell_type": "code",
   "execution_count": 7,
   "metadata": {},
   "outputs": [
    {
     "name": "stdout",
     "output_type": "stream",
     "text": [
      "Done.\n"
     ]
    },
    {
     "data": {
      "text/html": [
       "<table>\n",
       "    <tr>\n",
       "        <th>i</th>\n",
       "        <th>j</th>\n",
       "        <th>val</th>\n",
       "    </tr>\n",
       "    <tr>\n",
       "        <td>0</td>\n",
       "        <td>0</td>\n",
       "        <td>106</td>\n",
       "    </tr>\n",
       "    <tr>\n",
       "        <td>0</td>\n",
       "        <td>1</td>\n",
       "        <td>80</td>\n",
       "    </tr>\n",
       "    <tr>\n",
       "        <td>0</td>\n",
       "        <td>2</td>\n",
       "        <td>171</td>\n",
       "    </tr>\n",
       "    <tr>\n",
       "        <td>1</td>\n",
       "        <td>0</td>\n",
       "        <td>146</td>\n",
       "    </tr>\n",
       "    <tr>\n",
       "        <td>1</td>\n",
       "        <td>1</td>\n",
       "        <td>109</td>\n",
       "    </tr>\n",
       "    <tr>\n",
       "        <td>1</td>\n",
       "        <td>2</td>\n",
       "        <td>212</td>\n",
       "    </tr>\n",
       "    <tr>\n",
       "        <td>2</td>\n",
       "        <td>0</td>\n",
       "        <td>23</td>\n",
       "    </tr>\n",
       "    <tr>\n",
       "        <td>2</td>\n",
       "        <td>1</td>\n",
       "        <td>17</td>\n",
       "    </tr>\n",
       "    <tr>\n",
       "        <td>2</td>\n",
       "        <td>2</td>\n",
       "        <td>55</td>\n",
       "    </tr>\n",
       "</table>"
      ],
      "text/plain": [
       "[(0, 0, 106),\n",
       " (0, 1, 80),\n",
       " (0, 2, 171),\n",
       " (1, 0, 146),\n",
       " (1, 1, 109),\n",
       " (1, 2, 212),\n",
       " (2, 0, 23),\n",
       " (2, 1, 17),\n",
       " (2, 2, 55)]"
      ]
     },
     "execution_count": 7,
     "metadata": {},
     "output_type": "execute_result"
    }
   ],
   "source": [
    "\"\"\"\n",
    "Expected output below- don't re-evaluate this cell!\n",
    "\n",
    "NOTE: A valid answer must work for ALL inputs of the given type,\n",
    "not just this example.  I.e. do not hardcode around this answer / etc!\n",
    "\"\"\""
   ]
  },
  {
   "cell_type": "code",
   "execution_count": 80,
   "metadata": {},
   "outputs": [
    {
     "name": "stdout",
     "output_type": "stream",
     "text": [
      " * sqlite:///PS1.db\n",
      "Done.\n"
     ]
    },
    {
     "data": {
      "text/html": [
       "<table>\n",
       "    <thead>\n",
       "        <tr>\n",
       "            <th>i</th>\n",
       "            <th>j</th>\n",
       "            <th>val</th>\n",
       "        </tr>\n",
       "    </thead>\n",
       "    <tbody>\n",
       "        <tr>\n",
       "            <td>0</td>\n",
       "            <td>0</td>\n",
       "            <td>106</td>\n",
       "        </tr>\n",
       "        <tr>\n",
       "            <td>0</td>\n",
       "            <td>1</td>\n",
       "            <td>80</td>\n",
       "        </tr>\n",
       "        <tr>\n",
       "            <td>0</td>\n",
       "            <td>2</td>\n",
       "            <td>171</td>\n",
       "        </tr>\n",
       "        <tr>\n",
       "            <td>1</td>\n",
       "            <td>0</td>\n",
       "            <td>146</td>\n",
       "        </tr>\n",
       "        <tr>\n",
       "            <td>1</td>\n",
       "            <td>1</td>\n",
       "            <td>109</td>\n",
       "        </tr>\n",
       "        <tr>\n",
       "            <td>1</td>\n",
       "            <td>2</td>\n",
       "            <td>212</td>\n",
       "        </tr>\n",
       "        <tr>\n",
       "            <td>2</td>\n",
       "            <td>0</td>\n",
       "            <td>23</td>\n",
       "        </tr>\n",
       "        <tr>\n",
       "            <td>2</td>\n",
       "            <td>1</td>\n",
       "            <td>17</td>\n",
       "        </tr>\n",
       "        <tr>\n",
       "            <td>2</td>\n",
       "            <td>2</td>\n",
       "            <td>55</td>\n",
       "        </tr>\n",
       "    </tbody>\n",
       "</table>"
      ],
      "text/plain": [
       "[(0, 0, 106),\n",
       " (0, 1, 80),\n",
       " (0, 2, 171),\n",
       " (1, 0, 146),\n",
       " (1, 1, 109),\n",
       " (1, 2, 212),\n",
       " (2, 0, 23),\n",
       " (2, 1, 17),\n",
       " (2, 2, 55)]"
      ]
     },
     "execution_count": 80,
     "metadata": {},
     "output_type": "execute_result"
    }
   ],
   "source": [
    "%%sql\n",
    "SELECT A.i, B.j, SUM(A.val * B.val) AS val\n",
    "FROM A\n",
    "JOIN B ON A.j = B.i\n",
    "GROUP BY A.i, B.j;"
   ]
  },
  {
   "cell_type": "markdown",
   "metadata": {},
   "source": [
    "### Part (d): Matrix operations [10 points]\n",
    "\n",
    "In the previous question, we obtained the resulting matrix $C$ by multiplying two matrices $A$ and $B$. Each element in $C$ was computed using the _dot product_ of the $i$th row of $A$ and the $j$th column of $B$.\n",
    "\n",
    "Write a _single SQL query_ that computes the resulting matrix $R$, which is the **square** of matrix $A$ plus 2 times the **square** of matrix $C$, in other words, $R = A \\cdot A + 2 \\cdot (C \\cdot C) = A \\cdot A + 2 \\cdot ((A \\cdot B) \\cdot (A \\cdot B))$:"
   ]
  },
  {
   "cell_type": "code",
   "execution_count": 4,
   "metadata": {},
   "outputs": [
    {
     "name": "stdout",
     "output_type": "stream",
     "text": [
      " * sqlite:///PS1.db\n",
      "Done.\n"
     ]
    },
    {
     "data": {
      "text/html": [
       "<table>\n",
       "    <thead>\n",
       "        <tr>\n",
       "            <th>i</th>\n",
       "            <th>j</th>\n",
       "            <th>val</th>\n",
       "        </tr>\n",
       "    </thead>\n",
       "    <tbody>\n",
       "        <tr>\n",
       "            <td>0</td>\n",
       "            <td>0</td>\n",
       "            <td>53813</td>\n",
       "        </tr>\n",
       "        <tr>\n",
       "            <td>0</td>\n",
       "            <td>1</td>\n",
       "            <td>40284</td>\n",
       "        </tr>\n",
       "        <tr>\n",
       "            <td>0</td>\n",
       "            <td>2</td>\n",
       "            <td>89113</td>\n",
       "        </tr>\n",
       "        <tr>\n",
       "            <td>1</td>\n",
       "            <td>0</td>\n",
       "            <td>72686</td>\n",
       "        </tr>\n",
       "        <tr>\n",
       "            <td>1</td>\n",
       "            <td>1</td>\n",
       "            <td>54429</td>\n",
       "        </tr>\n",
       "        <tr>\n",
       "            <td>1</td>\n",
       "            <td>2</td>\n",
       "            <td>119632</td>\n",
       "        </tr>\n",
       "        <tr>\n",
       "            <td>2</td>\n",
       "            <td>0</td>\n",
       "            <td>12394</td>\n",
       "        </tr>\n",
       "        <tr>\n",
       "            <td>2</td>\n",
       "            <td>1</td>\n",
       "            <td>9266</td>\n",
       "        </tr>\n",
       "        <tr>\n",
       "            <td>2</td>\n",
       "            <td>2</td>\n",
       "            <td>21165</td>\n",
       "        </tr>\n",
       "    </tbody>\n",
       "</table>"
      ],
      "text/plain": [
       "[(0, 0, 53813),\n",
       " (0, 1, 40284),\n",
       " (0, 2, 89113),\n",
       " (1, 0, 72686),\n",
       " (1, 1, 54429),\n",
       " (1, 2, 119632),\n",
       " (2, 0, 12394),\n",
       " (2, 1, 9266),\n",
       " (2, 2, 21165)]"
      ]
     },
     "execution_count": 4,
     "metadata": {},
     "output_type": "execute_result"
    }
   ],
   "source": [
    "\"\"\"\n",
    "Expected output below- don't re-evaluate this cell!\n",
    "\n",
    "NOTE: A valid answer must work for ALL inputs of the given type,\n",
    "not just this example.  I.e. do not hardcode around this answer / etc!\n",
    "\"\"\""
   ]
  },
  {
   "cell_type": "markdown",
   "metadata": {},
   "source": [
    "Problem 2: The Sales Database [35 points]\n",
    "----------------------------------------------\n",
    "\n",
    "We've prepared and loaded a dataset related to sales data from a company. The dataset has the following schema:\n",
    "\n",
    "> `Holidays (WeekDate, IsHoliday)`\n",
    "\n",
    "> `Stores (Store, Type, Size)`\n",
    "\n",
    "> `TemporalData(Store, WeekDate, Temperature, FuelPrice, CPI, UnemploymentRate)`\n",
    "\n",
    "> `Sales (Store, Dept, WeekDate, WeeklySales)`\n",
    "\n",
    "Before you start writing queries on the database, find the schema and the constraints (keys, foreign keys). "
   ]
  },
  {
   "cell_type": "markdown",
   "metadata": {},
   "source": [
    "### Part (a): Sales during Holidays [10 points]\n",
    "\n",
    "Using a _single SQL query_, find the store(s) with the largest overall sales during holiday weeks. Further requirements:\n",
    "* Use the `WITH` clause before the main body of the query to compute a subquery if necessary.\n",
    "* Return a relation with schema `(Store, AllSales)`.\n",
    "\n",
    "Write your query here:"
   ]
  },
  {
   "cell_type": "code",
   "execution_count": 5,
   "metadata": {},
   "outputs": [
    {
     "name": "stdout",
     "output_type": "stream",
     "text": [
      " * sqlite:///PS1.db\n",
      "Done.\n"
     ]
    },
    {
     "data": {
      "text/html": [
       "<table>\n",
       "    <thead>\n",
       "        <tr>\n",
       "            <th>Store</th>\n",
       "            <th>AllSales</th>\n",
       "        </tr>\n",
       "    </thead>\n",
       "    <tbody>\n",
       "        <tr>\n",
       "            <td>20</td>\n",
       "            <td>22490350.81</td>\n",
       "        </tr>\n",
       "    </tbody>\n",
       "</table>"
      ],
      "text/plain": [
       "[(20, 22490350.81)]"
      ]
     },
     "execution_count": 5,
     "metadata": {},
     "output_type": "execute_result"
    }
   ],
   "source": [
    "\"\"\"\n",
    "Expected output below- don't re-evaluate this cell!\n",
    "\n",
    "NOTE: A valid answer must work for ALL inputs of the given type,\n",
    "not just this example.  I.e. do not hardcode around this answer / etc!\n",
    "\"\"\""
   ]
  },
  {
   "cell_type": "markdown",
   "metadata": {},
   "source": [
    "### Part (b): When Holidays do not help Sales [15 points]\n",
    "\n",
    "Using a _single SQL query_, compute the **number** of non-holiday weeks that had larger sales than the overall average sales during holiday weeks. Further requirements:\n",
    "* Use the `WITH` clause before the main body of the query to compute a subquery if necessary.\n",
    "* Return a relation with schema `(NumberNonHolidays)`.\n",
    "\n",
    "Write your query here:"
   ]
  },
  {
   "cell_type": "code",
   "execution_count": 6,
   "metadata": {},
   "outputs": [
    {
     "name": "stdout",
     "output_type": "stream",
     "text": [
      " * sqlite:///PS1.db\n",
      "Done.\n"
     ]
    },
    {
     "data": {
      "text/html": [
       "<table>\n",
       "    <thead>\n",
       "        <tr>\n",
       "            <th>NumberNonHolidays</th>\n",
       "        </tr>\n",
       "    </thead>\n",
       "    <tbody>\n",
       "        <tr>\n",
       "            <td>8</td>\n",
       "        </tr>\n",
       "    </tbody>\n",
       "</table>"
      ],
      "text/plain": [
       "[(8,)]"
      ]
     },
     "execution_count": 6,
     "metadata": {},
     "output_type": "execute_result"
    }
   ],
   "source": [
    "\"\"\"\n",
    "Expected output below- don't re-evaluate this cell!\n",
    "\n",
    "NOTE: A valid answer must work for ALL inputs of the given type,\n",
    "not just this example.  I.e. do not hardcode around this answer / etc!\n",
    "\"\"\""
   ]
  },
  {
   "cell_type": "markdown",
   "metadata": {},
   "source": [
    "### Part (c): Total Summer Sales [10 points]\n",
    "\n",
    "Using a _single SQL query_, compute the average winter sales (months 12,1,and 2) for each type of store. Further requirements:\n",
    "* Return a relation with schema `(type, AvgSales)`.\n",
    "\n",
    "*Hint:* SQLite3 does not support native operations on the DATE datatype. To create a workaround, you can use the `LIKE` predicate and the string concatenation operator (||). You can also use the substring operator that SQLite3 supports (`substr`).\n",
    "\n",
    "Write your query here:"
   ]
  },
  {
   "cell_type": "code",
   "execution_count": 7,
   "metadata": {},
   "outputs": [
    {
     "name": "stdout",
     "output_type": "stream",
     "text": [
      " * sqlite:///PS1.db\n",
      "Done.\n"
     ]
    },
    {
     "data": {
      "text/html": [
       "<table>\n",
       "    <thead>\n",
       "        <tr>\n",
       "            <th>type</th>\n",
       "            <th>AvgSales</th>\n",
       "        </tr>\n",
       "    </thead>\n",
       "    <tbody>\n",
       "        <tr>\n",
       "            <td>A</td>\n",
       "            <td>20884.924470966464</td>\n",
       "        </tr>\n",
       "        <tr>\n",
       "            <td>B</td>\n",
       "            <td>12858.744532384506</td>\n",
       "        </tr>\n",
       "        <tr>\n",
       "            <td>C</td>\n",
       "            <td>9583.168305027557</td>\n",
       "        </tr>\n",
       "    </tbody>\n",
       "</table>"
      ],
      "text/plain": [
       "[('A', 20884.924470966464),\n",
       " ('B', 12858.744532384506),\n",
       " ('C', 9583.168305027557)]"
      ]
     },
     "execution_count": 7,
     "metadata": {},
     "output_type": "execute_result"
    }
   ],
   "source": [
    "\"\"\"\n",
    "Expected output below- don't re-evaluate this cell!\n",
    "\n",
    "NOTE: A valid answer must work for ALL inputs of the given type,\n",
    "not just this example.  I.e. do not hardcode around this answer / etc!\n",
    "\"\"\""
   ]
  },
  {
   "cell_type": "markdown",
   "metadata": {},
   "source": [
    "Problem 3: The Traveling SQL Server Salesman Problem [35 points]\n",
    "--------------------------------------------------\n",
    "\n",
    "SQL Server salespeople are lucky as far as traveling salespeople go- they only have to sell one or two big enterprise contracts, at one or two offices in Wisconsin, in order to make their monthly quota!\n",
    "\n",
    "Answer the following questions using the table of streets connecting company office buildings.\n",
    "\n",
    "**Note that for convenience all streets are included _twice_, as $A \\rightarrow B$ and $B \\rightarrow A$.  This should make some parts of the problem easier, but remember to take it into account!**"
   ]
  },
  {
   "cell_type": "code",
   "execution_count": 13,
   "metadata": {},
   "outputs": [
    {
     "name": "stdout",
     "output_type": "stream",
     "text": [
      " * sqlite:///PS1.db\n",
      "Done.\n"
     ]
    },
    {
     "data": {
      "text/html": [
       "<table>\n",
       "    <tr>\n",
       "        <th>id</th>\n",
       "        <th>direction</th>\n",
       "        <th>A</th>\n",
       "        <th>B</th>\n",
       "        <th>d</th>\n",
       "    </tr>\n",
       "    <tr>\n",
       "        <td>0</td>\n",
       "        <td>F</td>\n",
       "        <td>UW-Madison</td>\n",
       "        <td>DooHickey Collective</td>\n",
       "        <td>7</td>\n",
       "    </tr>\n",
       "    <tr>\n",
       "        <td>0</td>\n",
       "        <td>R</td>\n",
       "        <td>DooHickey Collective</td>\n",
       "        <td>UW-Madison</td>\n",
       "        <td>7</td>\n",
       "    </tr>\n",
       "    <tr>\n",
       "        <td>1</td>\n",
       "        <td>F</td>\n",
       "        <td>DooHickey Collective</td>\n",
       "        <td>Gizmo Corp</td>\n",
       "        <td>2</td>\n",
       "    </tr>\n",
       "    <tr>\n",
       "        <td>1</td>\n",
       "        <td>R</td>\n",
       "        <td>Gizmo Corp</td>\n",
       "        <td>DooHickey Collective</td>\n",
       "        <td>2</td>\n",
       "    </tr>\n",
       "</table>"
      ],
      "text/plain": [
       "[(0, 'F', 'UW-Madison', 'DooHickey Collective', 7),\n",
       " (0, 'R', 'DooHickey Collective', 'UW-Madison', 7),\n",
       " (1, 'F', 'DooHickey Collective', 'Gizmo Corp', 2),\n",
       " (1, 'R', 'Gizmo Corp', 'DooHickey Collective', 2)]"
      ]
     },
     "execution_count": 13,
     "metadata": {},
     "output_type": "execute_result"
    }
   ],
   "source": [
    "%sql SELECT * FROM streets LIMIT 4;"
   ]
  },
  {
   "cell_type": "markdown",
   "metadata": {},
   "source": [
    "### Part (a): One-hop, two-hop, three-hop... [15 points]\n",
    "\n",
    "Our salesperson has stopped at UW-Madison, to steal some cool new RDBMS technology from CS564-ers, and now wants to go sell it to a company _within 10 miles of UW-Madison_ and _passing through no more than 3 distinct streets_.  Write a single query, not using `WITH` (see later on), to find all such companies.\n",
    "\n",
    "Your query should return the schema `(company, distance)` where distance is cumulative from UW-Madison.\n",
    "\n",
    "Write your query here:"
   ]
  },
  {
   "cell_type": "code",
   "execution_count": 8,
   "metadata": {},
   "outputs": [
    {
     "name": "stdout",
     "output_type": "stream",
     "text": [
      " * sqlite:///PS1.db\n",
      "Done.\n"
     ]
    },
    {
     "data": {
      "text/html": [
       "<table>\n",
       "    <thead>\n",
       "        <tr>\n",
       "            <th>company</th>\n",
       "            <th>distance</th>\n",
       "        </tr>\n",
       "    </thead>\n",
       "    <tbody>\n",
       "        <tr>\n",
       "            <td>DooHickey Collective</td>\n",
       "            <td>7</td>\n",
       "        </tr>\n",
       "        <tr>\n",
       "            <td>DooHickey Corp</td>\n",
       "            <td>9</td>\n",
       "        </tr>\n",
       "        <tr>\n",
       "            <td>Gadget Collective</td>\n",
       "            <td>9</td>\n",
       "        </tr>\n",
       "        <tr>\n",
       "            <td>Gadget Corp</td>\n",
       "            <td>6</td>\n",
       "        </tr>\n",
       "        <tr>\n",
       "            <td>Gizmo Corp</td>\n",
       "            <td>9</td>\n",
       "        </tr>\n",
       "        <tr>\n",
       "            <td>Widget Industries</td>\n",
       "            <td>10</td>\n",
       "        </tr>\n",
       "    </tbody>\n",
       "</table>"
      ],
      "text/plain": [
       "[('DooHickey Collective', 7),\n",
       " ('DooHickey Corp', 9),\n",
       " ('Gadget Collective', 9),\n",
       " ('Gadget Corp', 6),\n",
       " ('Gizmo Corp', 9),\n",
       " ('Widget Industries', 10)]"
      ]
     },
     "execution_count": 8,
     "metadata": {},
     "output_type": "execute_result"
    }
   ],
   "source": [
    "\"\"\"\n",
    "Expected output below- don't re-evaluate this cell!\n",
    "\n",
    "NOTE: A valid answer must work for ALL inputs of the given type,\n",
    "not just this example.  I.e. do not hardcode around this answer / etc!\n",
    "\"\"\""
   ]
  },
  {
   "cell_type": "markdown",
   "metadata": {},
   "source": [
    "### Part (b): A stop at the Farm [10 points]\n",
    "\n",
    "Now, our salesperson is out in the field, and wants to see all routes- and their distances- which will take him/her from a company $A$ to a company $B$, with the following constraints:\n",
    "* The route must pass through UW-Madison (in order to pick up new RDBMS tech to sell!)\n",
    "* $A$ and $B$ must _each individually_ be within 2 hops of UW-Madison\n",
    "* $A$ and $B$ must be different companies\n",
    "* _The total distance must be $<= 15$_\n",
    "* Do not use `WITH`\n",
    "* If you return a path $A \\rightarrow B$, _do not include_ $B \\rightarrow A$ in your answer!\n",
    "\n",
    "In order to make your answer a bit cleaner, you may split into two queries, one of which creates a `VIEW`.  A view is a virtual table based on the output set of a SQL query.  A view can be used just like a normal table- the only difference under the hood is that the DBMS re-evaluates the query used to generate it each time a view is queried by a user (thus the data is always up-to date!)\n",
    "\n",
    "Here's a simple example of a view:"
   ]
  },
  {
   "cell_type": "code",
   "execution_count": 12,
   "metadata": {},
   "outputs": [
    {
     "name": "stdout",
     "output_type": "stream",
     "text": [
      " * sqlite:///PS1.db\n",
      "Done.\n"
     ]
    },
    {
     "data": {
      "text/plain": [
       "[]"
      ]
     },
     "execution_count": 12,
     "metadata": {},
     "output_type": "execute_result"
    }
   ],
   "source": [
    "%%sql \n",
    "DROP VIEW IF EXISTS short_streets;\n",
    "CREATE VIEW short_streets AS \n",
    "SELECT A, B, d FROM streets WHERE d < 3;\n",
    "SELECT * FROM short_streets LIMIT 3;"
   ]
  },
  {
   "cell_type": "markdown",
   "metadata": {},
   "source": [
    "Write your query or queries here:"
   ]
  },
  {
   "cell_type": "code",
   "execution_count": 33,
   "metadata": {},
   "outputs": [
    {
     "name": "stdout",
     "output_type": "stream",
     "text": [
      " * sqlite:///PS1.db\n",
      "Done.\n",
      "Done.\n",
      "Done.\n"
     ]
    },
    {
     "data": {
      "text/html": [
       "<table>\n",
       "    <tr>\n",
       "        <th>company_1</th>\n",
       "        <th>company_2</th>\n",
       "        <th>distance</th>\n",
       "    </tr>\n",
       "    <tr>\n",
       "        <td>Gadget Corp</td>\n",
       "        <td>DooHickey Collective</td>\n",
       "        <td>13</td>\n",
       "    </tr>\n",
       "    <tr>\n",
       "        <td>Gadget Corp</td>\n",
       "        <td>DooHickey Corp</td>\n",
       "        <td>15</td>\n",
       "    </tr>\n",
       "    <tr>\n",
       "        <td>Gadget Corp</td>\n",
       "        <td>Gadget Collective</td>\n",
       "        <td>15</td>\n",
       "    </tr>\n",
       "    <tr>\n",
       "        <td>Gizmo Corp</td>\n",
       "        <td>Gadget Corp</td>\n",
       "        <td>15</td>\n",
       "    </tr>\n",
       "</table>"
      ],
      "text/plain": [
       "[('Gadget Corp', 'DooHickey Collective', 13),\n",
       " ('Gadget Corp', 'DooHickey Corp', 15),\n",
       " ('Gadget Corp', 'Gadget Collective', 15),\n",
       " ('Gizmo Corp', 'Gadget Corp', 15)]"
      ]
     },
     "execution_count": 33,
     "metadata": {},
     "output_type": "execute_result"
    }
   ],
   "source": [
    "\n",
    "\"\"\"\n",
    "Expected output below- don't re-evaluate this cell!\n",
    "\n",
    "NOTE: A valid answer must work for ALL inputs of the given type,\n",
    "not just this example.  I.e. do not hardcode around this answer / etc!\n",
    "\"\"\""
   ]
  },
  {
   "cell_type": "markdown",
   "metadata": {},
   "source": [
    "### Part (c): Finding Triangles [10 points]\n",
    "\n",
    "Finally, our salesperson wants to find the longest route that goes from some company $A$ to company $B$ to company $C$ and then back to company $A$. Also, the following constraints must hold:\n",
    "* $A$, $B$, $C$ must be different companies\n",
    "* Do not use `WITH` \n",
    "* Output only the length of the longest route\n",
    "\n",
    "Write your query here:"
   ]
  },
  {
   "cell_type": "code",
   "execution_count": 14,
   "metadata": {},
   "outputs": [
    {
     "name": "stdout",
     "output_type": "stream",
     "text": [
      " * sqlite:///PS1.db\n",
      "Done.\n"
     ]
    },
    {
     "data": {
      "text/html": [
       "<table>\n",
       "    <thead>\n",
       "        <tr>\n",
       "            <th>LongestDistance</th>\n",
       "        </tr>\n",
       "    </thead>\n",
       "    <tbody>\n",
       "        <tr>\n",
       "            <td>18</td>\n",
       "        </tr>\n",
       "    </tbody>\n",
       "</table>"
      ],
      "text/plain": [
       "[(18,)]"
      ]
     },
     "execution_count": 14,
     "metadata": {},
     "output_type": "execute_result"
    }
   ],
   "source": [
    "\"\"\"\n",
    "Expected output below- don't re-evaluate this cell!\n",
    "\n",
    "NOTE: A valid answer must work for ALL inputs of the given type,\n",
    "not just this example.  I.e. do not hardcode around this answer / etc!\n",
    "\"\"\""
   ]
  }
 ],
 "metadata": {
  "kernelspec": {
   "display_name": "Python 3",
   "language": "python",
   "name": "python3"
  },
  "language_info": {
   "codemirror_mode": {
    "name": "ipython",
    "version": 3
   },
   "file_extension": ".py",
   "mimetype": "text/x-python",
   "name": "python",
   "nbconvert_exporter": "python",
   "pygments_lexer": "ipython3",
   "version": "3.12.4"
  }
 },
 "nbformat": 4,
 "nbformat_minor": 4
}
