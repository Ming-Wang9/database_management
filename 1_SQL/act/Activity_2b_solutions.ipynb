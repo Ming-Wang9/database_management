{
 "cells": [
  {
   "cell_type": "markdown",
   "metadata": {},
   "source": [
    "**Make sure to have a copy of the database file, \"world-db\", downloaded and in this directory for the below to work!**"
   ]
  },
  {
   "cell_type": "code",
   "execution_count": 11,
   "metadata": {
    "collapsed": true,
    "slideshow": {
     "slide_type": "slide"
    }
   },
   "outputs": [
    {
     "name": "stdout",
     "output_type": "stream",
     "text": [
      "The sql extension is already loaded. To reload it, use:\n",
      "  %reload_ext sql\n"
     ]
    }
   ],
   "source": [
    "%load_ext sql\n",
    "%config SqlMagic.style = '_DEPRECATED_DEFAULT'\n",
    "%sql sqlite:///world-db"
   ]
  },
  {
   "cell_type": "code",
   "execution_count": 12,
   "metadata": {},
   "outputs": [
    {
     "name": "stdout",
     "output_type": "stream",
     "text": [
      "   sqlite:///./world-db\n",
      " * sqlite:///world-db\n",
      "Done.\n"
     ]
    },
    {
     "data": {
      "text/html": [
       "<table>\n",
       "    <thead>\n",
       "        <tr>\n",
       "            <th>sql</th>\n",
       "        </tr>\n",
       "    </thead>\n",
       "    <tbody>\n",
       "        <tr>\n",
       "            <td>CREATE TABLE `City` (<br>  `ID` int(11) NOT NULL,<br>  `Name` char(35) NOT NULL DEFAULT &#x27;&#x27;,<br>  `CountryCode` char(3) NOT NULL DEFAULT &#x27;&#x27;,<br>  `District` char(20) NOT NULL DEFAULT &#x27;&#x27;,<br>  `Population` int(11) NOT NULL DEFAULT &#x27;0&#x27;,<br>  PRIMARY KEY (`ID`),<br>  CONSTRAINT `city_ibfk_1` FOREIGN KEY (`CountryCode`) REFERENCES `Country` (`Code`)<br>)</td>\n",
       "        </tr>\n",
       "        <tr>\n",
       "            <td>None</td>\n",
       "        </tr>\n",
       "        <tr>\n",
       "            <td>CREATE TABLE `CountryLanguage` (<br>  `CountryCode` char(3) NOT NULL DEFAULT &#x27;&#x27;,<br>  `Language` char(30) NOT NULL DEFAULT &#x27;&#x27;,<br>  `IsOfficial` char(1) NOT NULL DEFAULT &#x27;F&#x27;,<br>  `Percentage` float(4,1) NOT NULL DEFAULT &#x27;0.0&#x27;,<br>  PRIMARY KEY (`CountryCode`,`Language`),<br>  CONSTRAINT `countryLanguage_ibfk_1` FOREIGN KEY (`CountryCode`) REFERENCES `Country` (`Code`)<br>)</td>\n",
       "        </tr>\n",
       "        <tr>\n",
       "            <td>None</td>\n",
       "        </tr>\n",
       "        <tr>\n",
       "            <td>CREATE TABLE `Country` (<br>  `Code` char(3) NOT NULL DEFAULT &#x27;&#x27;,<br>  `Name` char(52) NOT NULL DEFAULT &#x27;&#x27;,<br>  `Continent` char(15) NOT NULL DEFAULT &#x27;Asia&#x27;,<br>  `Region` char(26) NOT NULL DEFAULT &#x27;&#x27;,<br>  `SurfaceArea` float(10,2) NOT NULL DEFAULT &#x27;0.00&#x27;,<br>  `IndepYear` smallint(6) DEFAULT NULL,<br>  `Population` int(11) NOT NULL DEFAULT &#x27;0&#x27;,<br>  `LifeExpectancy` float(3,1) DEFAULT NULL,<br>  `GNP` float(10,2) DEFAULT NULL,<br>  `GNPOld` float(10,2) DEFAULT NULL,<br>  `LocalName` char(45) NOT NULL DEFAULT &#x27;&#x27;,<br>  `GovernmentForm` char(45) NOT NULL DEFAULT &#x27;&#x27;,<br>  `HeadOfState` char(60) DEFAULT NULL,<br>  `Capital` int(11) DEFAULT NULL,<br>  `Code2` char(2) NOT NULL DEFAULT &#x27;&#x27;,<br>  PRIMARY KEY (`Code`)<br>)</td>\n",
       "        </tr>\n",
       "        <tr>\n",
       "            <td>None</td>\n",
       "        </tr>\n",
       "        <tr>\n",
       "            <td>CREATE VIEW OfficialCountryLanguage AS<br>SELECT C.Name AS CountryName, L.Language AS Language<br>FROM CountryLanguage L, Country C<br>WHERE L.CountryCode = C.Code<br>AND L.IsOfficial = &#x27;T&#x27;</td>\n",
       "        </tr>\n",
       "        <tr>\n",
       "            <td>CREATE TABLE Author(\r<br>    authorid INTEGER PRIMARY KEY,\r<br>    name TEXT\r<br>)</td>\n",
       "        </tr>\n",
       "        <tr>\n",
       "            <td>CREATE TABLE Book(<br>  bookid INTEGER PRIMARY KEY,<br>  title TEXT,<br>  author INTEGER,<br>  FOREIGN KEY (author) REFERENCES Author(authorid)<br>    ON UPDATE SET NULL<br>    ON DELETE CASCADE<br>)</td>\n",
       "        </tr>\n",
       "    </tbody>\n",
       "</table>"
      ],
      "text/plain": [
       "[(\"CREATE TABLE `City` (\\n  `ID` int(11) NOT NULL,\\n  `Name` char(35) NOT NULL DEFAULT '',\\n  `CountryCode` char(3) NOT NULL DEFAULT '',\\n  `District` c ... (37 characters truncated) ... lation` int(11) NOT NULL DEFAULT '0',\\n  PRIMARY KEY (`ID`),\\n  CONSTRAINT `city_ibfk_1` FOREIGN KEY (`CountryCode`) REFERENCES `Country` (`Code`)\\n)\",),\n",
       " (None,),\n",
       " (\"CREATE TABLE `CountryLanguage` (\\n  `CountryCode` char(3) NOT NULL DEFAULT '',\\n  `Language` char(30) NOT NULL DEFAULT '',\\n  `IsOfficial` char(1) NO ... (64 characters truncated) ... '0.0',\\n  PRIMARY KEY (`CountryCode`,`Language`),\\n  CONSTRAINT `countryLanguage_ibfk_1` FOREIGN KEY (`CountryCode`) REFERENCES `Country` (`Code`)\\n)\",),\n",
       " (None,),\n",
       " (\"CREATE TABLE `Country` (\\n  `Code` char(3) NOT NULL DEFAULT '',\\n  `Name` char(52) NOT NULL DEFAULT '',\\n  `Continent` char(15) NOT NULL DEFAULT 'Asi ... (392 characters truncated) ... ULT '',\\n  `HeadOfState` char(60) DEFAULT NULL,\\n  `Capital` int(11) DEFAULT NULL,\\n  `Code2` char(2) NOT NULL DEFAULT '',\\n  PRIMARY KEY (`Code`)\\n)\",),\n",
       " (None,),\n",
       " (\"CREATE VIEW OfficialCountryLanguage AS\\nSELECT C.Name AS CountryName, L.Language AS Language\\nFROM CountryLanguage L, Country C\\nWHERE L.CountryCode = C.Code\\nAND L.IsOfficial = 'T'\",),\n",
       " ('CREATE TABLE Author(\\r\\n    authorid INTEGER PRIMARY KEY,\\r\\n    name TEXT\\r\\n)',),\n",
       " ('CREATE TABLE Book(\\n  bookid INTEGER PRIMARY KEY,\\n  title TEXT,\\n  author INTEGER,\\n  FOREIGN KEY (author) REFERENCES Author(authorid)\\n    ON UPDATE SET NULL\\n    ON DELETE CASCADE\\n)',)]"
      ]
     },
     "execution_count": 12,
     "metadata": {},
     "output_type": "execute_result"
    }
   ],
   "source": [
    "%sql SELECT sql FROM sqlite_master;"
   ]
  },
  {
   "cell_type": "markdown",
   "metadata": {},
   "source": [
    "**Exercise #1**: write a query that returns the countries that gained independence after 1989, along with the year they gained independence."
   ]
  },
  {
   "cell_type": "code",
   "execution_count": 13,
   "metadata": {
    "collapsed": true
   },
   "outputs": [
    {
     "name": "stdout",
     "output_type": "stream",
     "text": [
      "   sqlite:///./world-db\n",
      " * sqlite:///world-db\n",
      "Done.\n"
     ]
    },
    {
     "data": {
      "text/html": [
       "<table>\n",
       "    <thead>\n",
       "        <tr>\n",
       "            <th>Name</th>\n",
       "            <th>IndepYear</th>\n",
       "        </tr>\n",
       "    </thead>\n",
       "    <tbody>\n",
       "        <tr>\n",
       "            <td>Armenia</td>\n",
       "            <td>1991</td>\n",
       "        </tr>\n",
       "        <tr>\n",
       "            <td>Azerbaijan</td>\n",
       "            <td>1991</td>\n",
       "        </tr>\n",
       "        <tr>\n",
       "            <td>Bosnia and Herzegovina</td>\n",
       "            <td>1992</td>\n",
       "        </tr>\n",
       "        <tr>\n",
       "            <td>Belarus</td>\n",
       "            <td>1991</td>\n",
       "        </tr>\n",
       "        <tr>\n",
       "            <td>Czech Republic</td>\n",
       "            <td>1993</td>\n",
       "        </tr>\n",
       "        <tr>\n",
       "            <td>Eritrea</td>\n",
       "            <td>1993</td>\n",
       "        </tr>\n",
       "        <tr>\n",
       "            <td>Estonia</td>\n",
       "            <td>1991</td>\n",
       "        </tr>\n",
       "        <tr>\n",
       "            <td>Micronesia, Federated States of</td>\n",
       "            <td>1990</td>\n",
       "        </tr>\n",
       "        <tr>\n",
       "            <td>Georgia</td>\n",
       "            <td>1991</td>\n",
       "        </tr>\n",
       "        <tr>\n",
       "            <td>Croatia</td>\n",
       "            <td>1991</td>\n",
       "        </tr>\n",
       "        <tr>\n",
       "            <td>Kazakstan</td>\n",
       "            <td>1991</td>\n",
       "        </tr>\n",
       "        <tr>\n",
       "            <td>Kyrgyzstan</td>\n",
       "            <td>1991</td>\n",
       "        </tr>\n",
       "        <tr>\n",
       "            <td>Lithuania</td>\n",
       "            <td>1991</td>\n",
       "        </tr>\n",
       "        <tr>\n",
       "            <td>Latvia</td>\n",
       "            <td>1991</td>\n",
       "        </tr>\n",
       "        <tr>\n",
       "            <td>Moldova</td>\n",
       "            <td>1991</td>\n",
       "        </tr>\n",
       "        <tr>\n",
       "            <td>Marshall Islands</td>\n",
       "            <td>1990</td>\n",
       "        </tr>\n",
       "        <tr>\n",
       "            <td>Macedonia</td>\n",
       "            <td>1991</td>\n",
       "        </tr>\n",
       "        <tr>\n",
       "            <td>Namibia</td>\n",
       "            <td>1990</td>\n",
       "        </tr>\n",
       "        <tr>\n",
       "            <td>Palau</td>\n",
       "            <td>1994</td>\n",
       "        </tr>\n",
       "        <tr>\n",
       "            <td>Russian Federation</td>\n",
       "            <td>1991</td>\n",
       "        </tr>\n",
       "        <tr>\n",
       "            <td>Slovakia</td>\n",
       "            <td>1993</td>\n",
       "        </tr>\n",
       "        <tr>\n",
       "            <td>Slovenia</td>\n",
       "            <td>1991</td>\n",
       "        </tr>\n",
       "        <tr>\n",
       "            <td>Tajikistan</td>\n",
       "            <td>1991</td>\n",
       "        </tr>\n",
       "        <tr>\n",
       "            <td>Turkmenistan</td>\n",
       "            <td>1991</td>\n",
       "        </tr>\n",
       "        <tr>\n",
       "            <td>Ukraine</td>\n",
       "            <td>1991</td>\n",
       "        </tr>\n",
       "        <tr>\n",
       "            <td>Uzbekistan</td>\n",
       "            <td>1991</td>\n",
       "        </tr>\n",
       "    </tbody>\n",
       "</table>"
      ],
      "text/plain": [
       "[('Armenia', 1991),\n",
       " ('Azerbaijan', 1991),\n",
       " ('Bosnia and Herzegovina', 1992),\n",
       " ('Belarus', 1991),\n",
       " ('Czech Republic', 1993),\n",
       " ('Eritrea', 1993),\n",
       " ('Estonia', 1991),\n",
       " ('Micronesia, Federated States of', 1990),\n",
       " ('Georgia', 1991),\n",
       " ('Croatia', 1991),\n",
       " ('Kazakstan', 1991),\n",
       " ('Kyrgyzstan', 1991),\n",
       " ('Lithuania', 1991),\n",
       " ('Latvia', 1991),\n",
       " ('Moldova', 1991),\n",
       " ('Marshall Islands', 1990),\n",
       " ('Macedonia', 1991),\n",
       " ('Namibia', 1990),\n",
       " ('Palau', 1994),\n",
       " ('Russian Federation', 1991),\n",
       " ('Slovakia', 1993),\n",
       " ('Slovenia', 1991),\n",
       " ('Tajikistan', 1991),\n",
       " ('Turkmenistan', 1991),\n",
       " ('Ukraine', 1991),\n",
       " ('Uzbekistan', 1991)]"
      ]
     },
     "execution_count": 13,
     "metadata": {},
     "output_type": "execute_result"
    }
   ],
   "source": [
    "%%sql\n",
    "SELECT Name, IndepYear\n",
    "FROM Country\n",
    "WHERE IndepYear >= '1990';"
   ]
  },
  {
   "cell_type": "markdown",
   "metadata": {},
   "source": [
    "**Exercise #2**: write a query that returns the two most populous cities in the US."
   ]
  },
  {
   "cell_type": "code",
   "execution_count": 14,
   "metadata": {
    "collapsed": true
   },
   "outputs": [
    {
     "name": "stdout",
     "output_type": "stream",
     "text": [
      "   sqlite:///./world-db\n",
      " * sqlite:///world-db\n",
      "Done.\n"
     ]
    },
    {
     "data": {
      "text/html": [
       "<table>\n",
       "    <thead>\n",
       "        <tr>\n",
       "            <th>Name</th>\n",
       "            <th>Population</th>\n",
       "        </tr>\n",
       "    </thead>\n",
       "    <tbody>\n",
       "        <tr>\n",
       "            <td>New York</td>\n",
       "            <td>8008278</td>\n",
       "        </tr>\n",
       "        <tr>\n",
       "            <td>Los Angeles</td>\n",
       "            <td>3694820</td>\n",
       "        </tr>\n",
       "    </tbody>\n",
       "</table>"
      ],
      "text/plain": [
       "[('New York', 8008278), ('Los Angeles', 3694820)]"
      ]
     },
     "execution_count": 14,
     "metadata": {},
     "output_type": "execute_result"
    }
   ],
   "source": [
    "%%sql\n",
    "SELECT Name, Population\n",
    "FROM City\n",
    "WHERE CountryCode = 'USA'\n",
    "ORDER BY Population DESC\n",
    "LIMIT 2;"
   ]
  },
  {
   "cell_type": "markdown",
   "metadata": {},
   "source": [
    "**Exercise #3**: write a query that returns the countries that speak at least 50% Greek."
   ]
  },
  {
   "cell_type": "code",
   "execution_count": 15,
   "metadata": {
    "collapsed": true
   },
   "outputs": [
    {
     "name": "stdout",
     "output_type": "stream",
     "text": [
      "   sqlite:///./world-db\n",
      " * sqlite:///world-db\n",
      "Done.\n"
     ]
    },
    {
     "data": {
      "text/html": [
       "<table>\n",
       "    <thead>\n",
       "        <tr>\n",
       "            <th>Name</th>\n",
       "        </tr>\n",
       "    </thead>\n",
       "    <tbody>\n",
       "        <tr>\n",
       "            <td>Cyprus</td>\n",
       "        </tr>\n",
       "        <tr>\n",
       "            <td>Greece</td>\n",
       "        </tr>\n",
       "    </tbody>\n",
       "</table>"
      ],
      "text/plain": [
       "[('Cyprus',), ('Greece',)]"
      ]
     },
     "execution_count": 15,
     "metadata": {},
     "output_type": "execute_result"
    }
   ],
   "source": [
    "%%sql\n",
    "SELECT C.Name\n",
    "FROM Country C, CountryLanguage L\n",
    "WHERE C.Code = L.CountryCode\n",
    "AND L.Language = 'Greek'\n",
    "AND L.Percentage >= 50 ;"
   ]
  },
  {
   "cell_type": "markdown",
   "metadata": {},
   "source": [
    "**Exercise #4**: write a query that returns the district of the capital of USA."
   ]
  },
  {
   "cell_type": "code",
   "execution_count": 16,
   "metadata": {
    "collapsed": true
   },
   "outputs": [
    {
     "name": "stdout",
     "output_type": "stream",
     "text": [
      "   sqlite:///./world-db\n",
      " * sqlite:///world-db\n",
      "Done.\n"
     ]
    },
    {
     "data": {
      "text/html": [
       "<table>\n",
       "    <thead>\n",
       "        <tr>\n",
       "            <th>District</th>\n",
       "        </tr>\n",
       "    </thead>\n",
       "    <tbody>\n",
       "        <tr>\n",
       "            <td>District of Columbia</td>\n",
       "        </tr>\n",
       "    </tbody>\n",
       "</table>"
      ],
      "text/plain": [
       "[('District of Columbia',)]"
      ]
     },
     "execution_count": 16,
     "metadata": {},
     "output_type": "execute_result"
    }
   ],
   "source": [
    "%%sql\n",
    "SELECT T.district\n",
    "FROM Country C, City T\n",
    "WHERE C.code = 'USA'\n",
    "AND C.capital = T.id ;"
   ]
  }
 ],
 "metadata": {
  "kernelspec": {
   "display_name": "base",
   "language": "python",
   "name": "python3"
  },
  "language_info": {
   "codemirror_mode": {
    "name": "ipython",
    "version": 3
   },
   "file_extension": ".py",
   "mimetype": "text/x-python",
   "name": "python",
   "nbconvert_exporter": "python",
   "pygments_lexer": "ipython3",
   "version": "3.11.8"
  }
 },
 "nbformat": 4,
 "nbformat_minor": 1
}
